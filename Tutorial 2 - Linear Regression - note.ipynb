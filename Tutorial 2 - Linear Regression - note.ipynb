{
  "cells": [
    {
      "cell_type": "markdown",
      "metadata": {
        "id": "CE6gZuS-bfVe"
      },
      "source": [
        "# Linear Regression\n",
        "Cenying (Tracy) Yang (cenying.yang@cityu.edu.hk)\n",
        "\n",
        "Department of Information Systems\n",
        "\n",
        "City University of Hong Kong"
      ]
    },
    {
      "cell_type": "markdown",
      "metadata": {
        "id": "3Ryazc5obfVi"
      },
      "source": [
        "## 1. Data"
      ]
    },
    {
      "cell_type": "code",
      "execution_count": null,
      "metadata": {
        "id": "9CwVEfq6bfVi"
      },
      "outputs": [],
      "source": [
        "import pandas as pd\n",
        "import numpy as np"
      ]
    },
    {
      "cell_type": "code",
      "execution_count": null,
      "metadata": {
        "id": "-cYlt2YkbfVj"
      },
      "outputs": [],
      "source": [
        "# import airbnb data\n",
        "airbnb = pd.read_csv('airbnb.csv')"
      ]
    },
    {
      "cell_type": "code",
      "execution_count": null,
      "metadata": {
        "colab": {
          "base_uri": "https://localhost:8080/"
        },
        "id": "8h0iRqu5bfVk",
        "outputId": "6f148067-ec2b-4baa-9b86-249474443834"
      },
      "outputs": [
        {
          "name": "stdout",
          "output_type": "stream",
          "text": [
            "   NameLen               Style  Price  Cancellation  Stars  Reviews  \\\n",
            "0       43  entire condominium    154             0    4.5        2   \n",
            "1       44        entire house    110             0    5.0       28   \n",
            "2       50         entire loft     74             1    4.5        2   \n",
            "3       33   entire guesthouse    135             0    5.0       12   \n",
            "4       15  entire condominium     90             1    4.5       18   \n",
            "\n",
            "   Superhost  Guests  Bedrooms  Beds  Baths  DescLen  Amenities  Latitude  \\\n",
            "0          0       4         2     3    2.0      340         12  35.68795   \n",
            "1          1       4         2     2    1.0      492         42  35.68669   \n",
            "2          0       2         1     1    1.0      460         15  35.67155   \n",
            "3          1       2         1     1    1.0      404         35  35.69268   \n",
            "4          0       2         1     1    1.0      368          7  35.68672   \n",
            "\n",
            "   Longitude  PlazaDist  CanyonRdDist  CapitolDist  OperaDist  AirportDist  \n",
            "0 -105.93688   0.119008      0.776124     0.436797   5.306902    11.632054  \n",
            "1 -105.95508   1.146631      1.923802     1.106355   5.376815    10.462934  \n",
            "2 -105.95917   1.801923      2.275605     1.538425   6.450122     9.763511  \n",
            "3 -105.94403   0.526447      1.368862     0.777972   4.937623    11.332211  \n",
            "4 -105.94784   0.646551      1.435887     0.640713   5.345928    10.911138  \n"
          ]
        }
      ],
      "source": [
        "# print out the first 5 rows of the data\n",
        "# DescLen = decription lenth,多少个characters；Dist = distance\n",
        "print(airbnb.head())"
      ]
    },
    {
      "cell_type": "code",
      "execution_count": null,
      "metadata": {
        "colab": {
          "base_uri": "https://localhost:8080/",
          "height": 478
        },
        "id": "1s5jfpMgbfVk",
        "outputId": "0d4e5b9b-7caa-4d7f-cb20-4ecf43b7320c"
      },
      "outputs": [
        {
          "name": "stdout",
          "output_type": "stream",
          "text": [
            "count     99.000000\n",
            "mean     170.050505\n",
            "std      110.452444\n",
            "min       35.000000\n",
            "25%      101.500000\n",
            "50%      131.000000\n",
            "75%      199.000000\n",
            "max      744.000000\n",
            "Name: Price, dtype: float64\n"
          ]
        },
        {
          "data": {
            "text/plain": [
              "array([[<matplotlib.axes._subplots.AxesSubplot object at 0x7f6c0dbe8130>]],\n",
              "      dtype=object)"
            ]
          },
          "execution_count": 5,
          "metadata": {},
          "output_type": "execute_result"
        },
        {
          "data": {
            "image/png": "[encoded data removed]",
            "text/plain": [
              "<Figure size 432x288 with 1 Axes>"
            ]
          },
          "metadata": {
            "needs_background": "light"
          },
          "output_type": "display_data"
        }
      ],
      "source": [
        "# check the summary statistics and the distribution of the variable Price\n",
        "print(airbnb['Price'].describe())\n",
        "airbnb.hist('Price', bins = 100)"
      ]
    },
    {
      "cell_type": "code",
      "execution_count": null,
      "metadata": {
        "colab": {
          "base_uri": "https://localhost:8080/",
          "height": 317
        },
        "id": "vLG8RKlqbfVl",
        "outputId": "9aa5ce9a-1f57-4487-d46a-a8f6a8f84d22"
      },
      "outputs": [
        {
          "data": {
            "text/plain": [
              "array([[<matplotlib.axes._subplots.AxesSubplot object at 0x7f6c17e6fb20>]],\n",
              "      dtype=object)"
            ]
          },
          "execution_count": 6,
          "metadata": {},
          "output_type": "execute_result"
        },
        {
          "data": {
            "image/png": "[encoded data removed]",
            "text/plain": [
              "<Figure size 432x288 with 1 Axes>"
            ]
          },
          "metadata": {
            "needs_background": "light"
          },
          "output_type": "display_data"
        }
      ],
      "source": [
        "# since the distribution is right skewed, we need to take log transformation of the variable\n",
        "airbnb['log_Price'] = np.log(airbnb['Price'])\n",
        "airbnb.hist('log_Price', bins = 50)"
      ]
    },
    {
      "attachments": {},
      "cell_type": "markdown",
      "metadata": {},
      "source": [
        "airbnb['log_Price'] = np.log(airbnb['Price']) \n",
        "\n",
        "将 airbnb 数据帧对象中的 Price 列的每个元素取对数后存储到一个新的 log_Price 列中，这里使用了 NumPy 中的 log 函数。\n",
        "\n",
        "\n",
        "airbnb.hist('log_Price', bins = 50) \n",
        "\n",
        "将 airbnb 数据帧对象中的 log_Price 列绘制成一个直方图，其中 bins = 50 指定了直方图的条数为 50。这里使用了 Pandas 中的 hist 函数。由于 log_Price 的值已经是对数值，因此绘制的直方图显示的是对数值的分布情况。"
      ]
    },
    {
      "cell_type": "code",
      "execution_count": null,
      "metadata": {
        "colab": {
          "base_uri": "https://localhost:8080/"
        },
        "id": "VXVD2zfIbfVl",
        "outputId": "89cd1cbb-e1ba-4137-ad4b-ab8c2ef7c3f4"
      },
      "outputs": [
        {
          "name": "stdout",
          "output_type": "stream",
          "text": [
            "Superhost\n",
            "0    5.115792\n",
            "1    4.892377\n",
            "Name: log_Price, dtype: float64\n"
          ]
        }
      ],
      "source": [
        "# average log price for superhost vs non superhost\n",
        "group_by_superhost = airbnb.groupby('Superhost')['log_Price'].mean()\n",
        "print(group_by_superhost)"
      ]
    },
    {
      "attachments": {},
      "cell_type": "markdown",
      "metadata": {},
      "source": [
        "airbnb.groupby('Superhost')['log_Price'].mean() \n",
        "\n",
        "将 airbnb 数据帧对象按照 Superhost 列进行分组，对每个分组计算 log_Price 列的平均值。具体来说，它返回一个 Pandas 序列对象，序列的索引为 Superhost 列中的两个不同值，即 '0' 和 '1'，而序列的值为相应分组的 log_Price 列的平均值。"
      ]
    },
    {
      "cell_type": "code",
      "execution_count": null,
      "metadata": {
        "colab": {
          "base_uri": "https://localhost:8080/"
        },
        "id": "q58EYjaMbfVm",
        "outputId": "a0127bb4-c698-42b4-8ced-d70212c7f773"
      },
      "outputs": [
        {
          "name": "stdout",
          "output_type": "stream",
          "text": [
            "Bedrooms\n",
            "0    4.670109\n",
            "1    4.794342\n",
            "2    5.346705\n",
            "3    5.712909\n",
            "4    6.612041\n",
            "Name: log_Price, dtype: float64\n"
          ]
        }
      ],
      "source": [
        "# average log price for different # of bedrooms；#: numbers\n",
        "group_by_bedroom = airbnb.groupby('Bedrooms')['log_Price'].mean()\n",
        "print(group_by_bedroom)"
      ]
    },
    {
      "cell_type": "code",
      "execution_count": null,
      "metadata": {
        "colab": {
          "base_uri": "https://localhost:8080/",
          "height": 297
        },
        "id": "1NBENaZJbfVm",
        "outputId": "07b182f4-bb1a-47dc-8bbd-d5d8ae86e64f"
      },
      "outputs": [
        {
          "data": {
            "text/plain": [
              "<matplotlib.axes._subplots.AxesSubplot at 0x7f6c0d4d7730>"
            ]
          },
          "execution_count": 10,
          "metadata": {},
          "output_type": "execute_result"
        },
        {
          "data": {
            "image/png": "[encoded data removed]",
            "text/plain": [
              "<Figure size 432x288 with 1 Axes>"
            ]
          },
          "metadata": {
            "needs_background": "light"
          },
          "output_type": "display_data"
        }
      ],
      "source": [
        "# Check correlation between log price and distance to plaza  检查log price与到广场距离之间的相关性\n",
        "# a scatter plot of log price and distance to plaza\n",
        "airbnb.plot.scatter(x = 'PlazaDist', y = 'log_Price')"
      ]
    },
    {
      "attachments": {},
      "cell_type": "markdown",
      "metadata": {},
      "source": [
        "将 airbnb 数据帧对象的 PlazaDist 列作为 x 轴，log_Price 列作为 y 轴，绘制散点图。在该散点图中，每个数据点代表一个 AirBnb 房源，其横坐标为该房源距离市中心的距离，纵坐标为该房源的价格取对数后的值。该图可以用来探究价格与距离市中心的关系。"
      ]
    },
    {
      "cell_type": "code",
      "execution_count": null,
      "metadata": {
        "colab": {
          "base_uri": "https://localhost:8080/",
          "height": 297
        },
        "id": "fuJxrU1tbfVm",
        "outputId": "33f040bc-f8cd-4f00-d1b8-2ccc5a50b0e8"
      },
      "outputs": [
        {
          "data": {
            "text/plain": [
              "<matplotlib.axes._subplots.AxesSubplot at 0x7f6c0d455610>"
            ]
          },
          "execution_count": 11,
          "metadata": {},
          "output_type": "execute_result"
        },
        {
          "data": {
            "image/png": "[encoded data removed]",
            "text/plain": [
              "<Figure size 432x288 with 1 Axes>"
            ]
          },
          "metadata": {
            "needs_background": "light"
          },
          "output_type": "display_data"
        }
      ],
      "source": [
        "# Check correlation between log price and review stars\n",
        "# a scatter plot of log price and stars\n",
        "airbnb.plot.scatter(x = 'Stars', y = 'log_Price')"
      ]
    },
    {
      "attachments": {},
      "cell_type": "markdown",
      "metadata": {},
      "source": [
        "将 airbnb 数据帧对象的 Stars 列作为 x 轴，log_Price 列作为 y 轴，绘制散点图。在该散点图中，每个数据点代表一个 AirBnb 房源，其横坐标为该房源的星级评分，纵坐标为该房源的价格取对数后的值。该图可以用来探究价格与房源质量（即星级评分）的关系。"
      ]
    },
    {
      "cell_type": "markdown",
      "metadata": {
        "id": "3XDUmS7DbfVn"
      },
      "source": [
        "## 2. Linear regression"
      ]
    },
    {
      "attachments": {},
      "cell_type": "markdown",
      "metadata": {
        "id": "cG6A4k7ZbfVn"
      },
      "source": [
        "#### scikit-learn (also known as sklearn) is a library featuring various classification, regression and clustering algorithms including linear regression, decision tree, k-means, etc.\n",
        "scikit-learn（也称为SKlearn）是一个具有各种分类，回归和聚类算法的库，包括线性回归，决策树，K-means等。"
      ]
    },
    {
      "cell_type": "code",
      "execution_count": null,
      "metadata": {
        "id": "GomeNaE4bfVn"
      },
      "outputs": [],
      "source": [
        "from sklearn import metrics, linear_model, model_selection"
      ]
    },
    {
      "cell_type": "code",
      "execution_count": null,
      "metadata": {
        "colab": {
          "base_uri": "https://localhost:8080/"
        },
        "id": "gl8MbpERbfVn",
        "outputId": "8dd66791-3c13-4805-9156-c1a43406b1ee"
      },
      "outputs": [
        {
          "data": {
            "text/plain": [
              "array(['NameLen', 'Style', 'Price', 'Cancellation', 'Stars', 'Reviews',\n",
              "       'Superhost', 'Guests', 'Bedrooms', 'Beds', 'Baths', 'DescLen',\n",
              "       'Amenities', 'Latitude', 'Longitude', 'PlazaDist', 'CanyonRdDist',\n",
              "       'CapitolDist', 'OperaDist', 'AirportDist', 'log_Price'],\n",
              "      dtype=object)"
            ]
          },
          "execution_count": 13,
          "metadata": {},
          "output_type": "execute_result"
        }
      ],
      "source": [
        "# check column names 返回airbnb数据帧对象的列名列表，即所有列的名称。这个列表包含所有列名的字符串，并按它们在数据帧对象中的顺序排序。\n",
        "airbnb.columns.values"
      ]
    },
    {
      "cell_type": "code",
      "execution_count": null,
      "metadata": {
        "colab": {
          "base_uri": "https://localhost:8080/"
        },
        "id": "lKnCNXlRbfVo",
        "outputId": "61c2581b-639a-481f-a449-3a4f1512a80a"
      },
      "outputs": [
        {
          "name": "stdout",
          "output_type": "stream",
          "text": [
            "(99, 16)\n",
            "(99,)\n"
          ]
        }
      ],
      "source": [
        "# prepare X and y；.value以列表返回字典中的所有值\n",
        "X = airbnb[['NameLen','Cancellation', 'Stars', 'Reviews','Superhost', 'Guests', 'Bedrooms', 'Beds', 'Baths', 'DescLen',\n",
        "           'Amenities', 'PlazaDist', 'CanyonRdDist','CapitolDist', 'OperaDist', 'AirportDist']].values\n",
        "y = airbnb['log_Price'].values\n",
        "print(X.shape)\n",
        "print(y.shape)"
      ]
    },
    {
      "attachments": {},
      "cell_type": "markdown",
      "metadata": {},
      "source": [
        "这段代码中，我们从 airbnb 数据帧对象中选择了一些列，并把它们的值赋给变量 X。我们同时选择了 log_Price 列的值，把它们赋给了变量 y。\n",
        "\n",
        "具体来说，X 是一个 NumPy 数组，它包含了 airbnb 数据帧对象中的以下列：\n",
        "\n",
        "NameLen: 房源名称的长度。Cancellation: 取消预订的政策。Stars: 房源的评级。\n",
        "\n",
        "Reviews: 房源的评论数。Superhost: 该属性表示房东是否是超级房东。Guests: 可以容纳多少位客人。\n",
        "\n",
        "Bedrooms: 有多少卧室。Beds: 有多少张床。Baths: 表示有多少间浴室。DescLen: 房源描述的长度。\n",
        "\n",
        "Amenities: 房源提供的设施和服务。PlazaDist:离普拉萨区（Plaza District）的距离。 \n",
        "\n",
        "CanyonRdDist: 峡谷路（Canyon Road）的距离 CapitolDist: 国会大厦（New Mexico State Capitol）\n",
        "\n",
        "OperaDist: 圣菲歌剧院（Santa Fe Opera） AirportDist: Santa Fe Municipal Airport\n",
        "\n",
        "同时，y 是一个 NumPy 数组，它包含了 log_Price 列的值。log_Price 是房源价格的对数，因此 y 中包含了所有房源的对数价格。\n",
        "\n",
        "X 的形状是 (n, 16)，其中 n 是样本数量；y 的形状是 (n,)。这意味着我们有 n 个样本，每个样本有 16 个属性和一个价格。"
      ]
    },
    {
      "cell_type": "code",
      "execution_count": null,
      "metadata": {
        "colab": {
          "base_uri": "https://localhost:8080/"
        },
        "id": "IX_5abeXbfVo",
        "outputId": "34b3caab-fe4d-4f3d-cb63-4df24d70bf4e"
      },
      "outputs": [
        {
          "name": "stdout",
          "output_type": "stream",
          "text": [
            "Training size:  (79,)\n",
            "Testing size:  (20,)\n"
          ]
        }
      ],
      "source": [
        "# split data into 80% training and 20% testing\n",
        "X_train, X_test, y_train, y_test = model_selection.train_test_split(X, y,test_size=0.2, random_state=42) \n",
        "# test_size=0.2其实和train_size=0.8一样\n",
        "# random_state可以被随便设置，正整数，但最好每次都是一样的数字，这样得到的是一样的结果，保证程序reproduceable（可复写的）\n",
        "\n",
        "print('Training size: ', y_train.shape)\n",
        "print('Testing size: ', y_test.shape)"
      ]
    },
    {
      "attachments": {},
      "cell_type": "markdown",
      "metadata": {},
      "source": [
        "使用scikit-learn库中的model_selection模块中的train_test_split函数将数据划分为训练集和测试集。\n",
        "\n",
        "X和y变量分别表示特征和目标变量。test_size参数被设置为0.2，这意味着20％的数据将被用作测试集。\n",
        "\n",
        "random_state参数42，这个数字可以随便设置为正整数，但最好每次都一样，以确保结果可以被复现\n",
        "\n",
        "\n",
        "print两行代码用于打印训练集和测试集的大小，即它们包含多少条记录。y_train.shape和y_test.shape可以获取相应数组的形状，即每个数组中的记录数和特征数。\n",
        "\n",
        "输出是一个值是因为 y_train.shape 和 y_test.shape 返回的是一个包含一个整数的元组（tuple），而元组只有一个元素时，需要在元素后面添加逗号来表示这是一个元组。因此，打印的结果中逗号后面是空的。\n",
        "\n",
        "例如，(79,) 表示一个只包含一个整数 79 的元组，而 (20,) 表示一个只包含一个整数 20 的元组。如果逗号被省略，则会将 y_train.shape 和 y_test.shape 视为整数而不是元组。"
      ]
    },
    {
      "cell_type": "code",
      "execution_count": null,
      "metadata": {
        "id": "pOIe9x1XbfVo"
      },
      "outputs": [],
      "source": [
        "# run linear regression\n",
        "linreg = linear_model.LinearRegression()\n",
        "linreg_fit = linreg.fit(X_train, y_train)\n",
        "#fit function"
      ]
    },
    {
      "attachments": {},
      "cell_type": "markdown",
      "metadata": {},
      "source": [
        "这两行代码创建了一个名为 linreg 的线性回归模型，并用训练集 X_train 和目标变量 y_train 对其进行训练（即拟合数据）。\n",
        "\n",
        "这里使用了 scikit-learn 中的 linear_model 模块，其中的 LinearRegression() 函数创建了一个线性回归模型对象，可以通过这个对象来访问模型的各种属性和方法。\n",
        "\n",
        "第二行代码用训练集 X_train 和目标变量 y_train 对线性回归模型进行训练，得到模型 linreg_fit\n",
        "\n",
        "使用 fit() 方法拟合模型。fit() 方法会使用训练集中的特征和目标变量来训练模型，以便模型可以学习如何将特征映射到目标变量。一旦模型被训练，它就可以用来进行预测或做其他分析。"
      ]
    },
    {
      "cell_type": "code",
      "execution_count": null,
      "metadata": {
        "colab": {
          "base_uri": "https://localhost:8080/"
        },
        "id": "IpNihxM2bfVo",
        "outputId": "2872458b-62f4-4889-8873-9e3086d55059"
      },
      "outputs": [
        {
          "name": "stdout",
          "output_type": "stream",
          "text": [
            "[ 2.49472159e-03 -1.98443082e-01  3.87446406e-01 -5.75954640e-04\n",
            "  1.71985578e-02  1.32126038e-01  9.30266062e-02 -1.29911323e-01\n",
            "  3.73943060e-01  5.80758834e-05 -6.39213528e-04 -9.38386794e-02\n",
            " -7.10385671e-02  1.05143287e-02  9.48292245e-02  4.47717987e-02]\n"
          ]
        }
      ],
      "source": [
        "# check coefficients，即coef_\n",
        "print(linreg_fit.coef_)"
      ]
    },
    {
      "attachments": {},
      "cell_type": "markdown",
      "metadata": {},
      "source": [
        "使用线性回归模型 linreg_fit 的 coef_ 属性来打印模型的系数，即特征的权重。系数代表了特征对目标变量的影响程度，可以用来解释模型对数据的拟合情况。coef_ 属性返回一个数组，其中每个元素对应于一个特征的系数值。"
      ]
    },
    {
      "cell_type": "code",
      "execution_count": null,
      "metadata": {
        "colab": {
          "base_uri": "https://localhost:8080/"
        },
        "id": "HTTlNJPWbfVp",
        "outputId": "a80b7445-fcd8-489f-886d-408c1a6600d2"
      },
      "outputs": [
        {
          "name": "stdout",
          "output_type": "stream",
          "text": [
            "Training error:  0.0615986911622132\n",
            "Testing error:  0.06544096530934305\n"
          ]
        }
      ],
      "source": [
        "# use mean square error (mse) to evaluate the model\n",
        "# MSE = sum(yi - yi的平均数)^2 / N\n",
        "train_predict = linreg_fit.predict(X_train)\n",
        "test_predict = linreg_fit.predict(X_test)\n",
        "mse_train = metrics.mean_squared_error(y_true=y_train, y_pred=train_predict)\n",
        "mse_test = metrics.mean_squared_error(y_true=y_test, y_pred=test_predict)\n",
        "print('Training error: ', mse_train)\n",
        "print('Testing error: ', mse_test)"
      ]
    },
    {
      "attachments": {},
      "cell_type": "markdown",
      "metadata": {},
      "source": [
        "这几行代码用训练好的线性回归模型 linreg_fit 对训练集 X_train 和测试集 X_test 进行预测，并使用 scikit-learn 中的 metrics 模块计算预测误差。具体来说，这几行代码做了以下几件事情：\n",
        "\n",
        "train_predict = linreg_fit.predict(X_train) ：用训练好的模型对训练集 X_train 进行预测，得到预测结果 train_predict。预测的过程是用训练好的模型对训练集中的每个样本进行预测，并得到一个预测值，train_predict 是一个包含所有样本的预测值的一维数组。\n",
        "\n",
        "test_predict = linreg_fit.predict(X_test)：用训练好的模型对测试集 X_test 进行预测，得到预测结果 test_predict。预测的过程与训练集相似，但这里用测试集中的样本进行预测。\n",
        "\n",
        "mse_train = metrics.mean_squared_error(y_true=y_train, y_pred=train_predict) ：使用 scikit-learn 中的 mean_squared_error() 函数计算训练集真实值 y_train 和预测值 train_predict 之间的均方误差，得到训练集的均方误差 mse_train。\n",
        "\n",
        "mse_test = metrics.mean_squared_error(y_true=y_test, y_pred=test_predict) ：算测试集真实值 y_test 和预测值 test_predict 之间的均方误差，得到测试误差 mse_test。\n",
        "\n",
        "print('Training error: ', mse_train) 和 print('Testing error: ', mse_test) ：输出训练集和测试集的均方误差。"
      ]
    },
    {
      "cell_type": "markdown",
      "metadata": {
        "id": "5enVLtjqbfVp"
      },
      "source": [
        "## 3. Regularized linear regression"
      ]
    },
    {
      "cell_type": "code",
      "execution_count": null,
      "metadata": {
        "id": "DRog-ltKbfVp"
      },
      "outputs": [],
      "source": [
        "# use default alpha=1 value to run ridge\n",
        "ridge = linear_model.Ridge()\n",
        "ridge_fit = ridge.fit(X_train, y_train)"
      ]
    },
    {
      "attachments": {},
      "cell_type": "markdown",
      "metadata": {},
      "source": [
        "这段代码用岭回归（Ridge Regression）模型对训练集 X_train 进行训练，并得到训练好的岭回归模型 ridge_fit。具体逻辑如下：\n",
        "\n",
        "ridge = linear_model.Ridge()：创建一个岭回归模型对象 ridge。这里没有手动指定alpha，因此Ridge()函数将使用默认的alpha=1。\n",
        "\n",
        "ridge_fit = ridge.fit(X_train, y_train)：用训练集 X_train 和目标变量 y_train 对岭回归模型进行训练，得到训练好的岭回归模型 ridge_fit。\n",
        "\n",
        "岭回归是一种用于处理多重共线性（multicollinearity）问题的线性回归技术，它在目标函数中加入一个正则项（regularization term），通过限制模型参数的大小来避免模型过拟合的问题。"
      ]
    },
    {
      "cell_type": "code",
      "execution_count": null,
      "metadata": {
        "colab": {
          "base_uri": "https://localhost:8080/"
        },
        "id": "thOnYw9_bfVp",
        "outputId": "4960f6c9-0d47-4fd5-8770-da8fef6108bd"
      },
      "outputs": [
        {
          "name": "stdout",
          "output_type": "stream",
          "text": [
            "[ 2.36283307e-03 -1.80502266e-01  2.50033496e-01 -7.53415251e-04\n",
            "  2.64320660e-02  1.24595458e-01  1.09836831e-01 -1.04604974e-01\n",
            "  3.09597478e-01  6.04683022e-05 -1.72234081e-04 -7.50488817e-02\n",
            " -7.79290279e-02 -8.39210687e-03  8.78607637e-02  4.35317719e-02]\n"
          ]
        }
      ],
      "source": [
        "print(ridge_fit.coef_)"
      ]
    },
    {
      "cell_type": "code",
      "execution_count": null,
      "metadata": {
        "colab": {
          "base_uri": "https://localhost:8080/"
        },
        "id": "LT1t7O5YbfVp",
        "outputId": "9187f562-a294-47b4-a992-4b5e396fab4e"
      },
      "outputs": [
        {
          "name": "stdout",
          "output_type": "stream",
          "text": [
            "Training error:  0.062363165042565075\n",
            "Testing error:  0.05394610633720226\n"
          ]
        }
      ],
      "source": [
        "train_predict = ridge_fit.predict(X_train)\n",
        "test_predict = ridge_fit.predict(X_test)\n",
        "mse_train = metrics.mean_squared_error(y_true=y_train, y_pred=train_predict)\n",
        "mse_test = metrics.mean_squared_error(y_true=y_test, y_pred=test_predict)\n",
        "print('Training error: ', mse_train)\n",
        "print('Testing error: ', mse_test)\n",
        "#最后结果比之前的0.065好（第二部分最后一个）"
      ]
    },
    {
      "attachments": {},
      "cell_type": "markdown",
      "metadata": {},
      "source": [
        "这段代码用岭回归模型对训练集和测试集进行预测，并计算预测结果与真实值之间的均方误差（Mean Squared Error, MSE）。具体逻辑如下：\n",
        "\n",
        "train_predict = ridge_fit.predict(X_train)：用训练好的岭回归模型 ridge_fit 对训练集 X_train 进行预测，得到预测结果 train_predict。\n",
        "\n",
        "test_predict = ridge_fit.predict(X_test)：用训练好的岭回归模型 ridge_fit 对测试集 X_test 进行预测，得到预测结果 test_predict。\n",
        "\n",
        "mse_train = metrics.mean_squared_error(y_true=y_train, y_pred=train_predict)：用训练集的真实目标变量 y_train 和对训练集进行预测的结果 train_predict 计算均方误差 mse_train。\n",
        "\n",
        "mse_test = metrics.mean_squared_error(y_true=y_test, y_pred=test_predict)：用测试集的真实目标变量 y_test 和对测试集进行预测的结果 test_predict 计算均方误差 mse_test。\n",
        "\n",
        "输出训练集和测试集的均方误差。\n",
        "\n",
        "这段代码的作用是评估岭回归模型对训练集和测试集的拟合效果，通过均方误差来衡量预测误差的大小"
      ]
    },
    {
      "cell_type": "code",
      "execution_count": null,
      "metadata": {
        "id": "CGnX0ZjNbfVq"
      },
      "outputs": [],
      "source": [
        "# use default alpha value to run lasso\n",
        "lasso = linear_model.Lasso()\n",
        "lasso_fit = lasso.fit(X_train, y_train)"
      ]
    },
    {
      "cell_type": "code",
      "execution_count": null,
      "metadata": {
        "colab": {
          "base_uri": "https://localhost:8080/"
        },
        "id": "OYLMKaWHbfVq",
        "outputId": "c599d680-276a-4d68-e8c4-0f216c297812"
      },
      "outputs": [
        {
          "name": "stdout",
          "output_type": "stream",
          "text": [
            "[ 0.         -0.         -0.         -0.00245586 -0.          0.\n",
            "  0.          0.          0.          0.00019513  0.         -0.\n",
            " -0.         -0.         -0.          0.        ]\n"
          ]
        }
      ],
      "source": [
        "print(lasso_fit.coef_)\n",
        "# 结果跟linreg_fit.coef_有很大不同"
      ]
    },
    {
      "cell_type": "code",
      "execution_count": null,
      "metadata": {
        "colab": {
          "base_uri": "https://localhost:8080/"
        },
        "id": "noD-FYhHbfVq",
        "outputId": "15df3eb8-9198-4c9d-ffc4-85a366c5a599"
      },
      "outputs": [
        {
          "name": "stdout",
          "output_type": "stream",
          "text": [
            "Training error:  0.2029599531228819\n",
            "Testing error:  0.34396782500778517\n"
          ]
        }
      ],
      "source": [
        "train_predict = lasso_fit.predict(X_train)\n",
        "test_predict = lasso_fit.predict(X_test)\n",
        "mse_train = metrics.mean_squared_error(y_true=y_train, y_pred=train_predict)\n",
        "mse_test = metrics.mean_squared_error(y_true=y_test, y_pred=test_predict)\n",
        "print('Training error: ', mse_train)\n",
        "print('Testing error: ', mse_test)"
      ]
    },
    {
      "cell_type": "code",
      "execution_count": null,
      "metadata": {
        "id": "RJ2Z5-w-bfVq"
      },
      "outputs": [],
      "source": [
        "# use cross validation to select optimal hyperparameter alpha for Ridge\n",
        "ridge_cv = linear_model.RidgeCV(alphas=[0.1, 0.5, 1.0, 5, 10.0], cv = 5)  \n",
        "# default alphas = (0.1, 1.0, 10.0) 课件上介绍sklearn有写\n",
        "# 也可以设置更复杂的，比如α范围设置为0~10\n",
        "ridge_cv_fit = ridge_cv.fit(X_train, y_train)"
      ]
    },
    {
      "attachments": {},
      "cell_type": "markdown",
      "metadata": {},
      "source": [
        "使用交叉验证来选择Ridge回归的最优超参数alpha。\n",
        "\n",
        "linear_model.RidgeCV(alphas=[0.1, 0.5, 1.0, 5, 10.0], cv = 5) 创建了一个RidgeCV对象，其中alphas参数指定了需要尝试的超参数alpha的不同取值，cv参数指定了进行交叉验证时的折数；\n",
        "\n",
        "ridge_cv_fit = ridge_cv.fit(X_train, y_train) 使用训练集数据和标签来拟合RidgeCV模型，RidgeCV会自动进行交叉验证，并返回一个拟合好的模型；\n",
        "\n",
        "调用ridge_cv_fit.alpha_可以查看在交叉验证中找到的最优的超参数alpha的值。\n",
        "\n",
        "需要注意的是，使用RidgeCV进行超参数调优时，交叉验证的折数越大，计算时间就会越长，但最终得到的模型的性能估计也会更准确。"
      ]
    },
    {
      "cell_type": "code",
      "execution_count": null,
      "metadata": {
        "colab": {
          "base_uri": "https://localhost:8080/"
        },
        "id": "BvfUR6V5bfVq",
        "outputId": "38b85d0f-a252-402a-b24b-717a855b3e4a"
      },
      "outputs": [
        {
          "name": "stdout",
          "output_type": "stream",
          "text": [
            "5.0\n"
          ]
        }
      ],
      "source": [
        "# print out the best alpha\n",
        "print(ridge_cv_fit.alpha_)"
      ]
    },
    {
      "cell_type": "code",
      "execution_count": null,
      "metadata": {
        "colab": {
          "base_uri": "https://localhost:8080/"
        },
        "id": "vGRrdr9vbfVq",
        "outputId": "28cc3cd9-656a-42ac-fd30-0ef1ac15e19a"
      },
      "outputs": [
        {
          "name": "stdout",
          "output_type": "stream",
          "text": [
            "[ 2.30013332e-03 -1.40690495e-01  9.20398277e-02 -1.04097475e-03\n",
            "  2.51579253e-02  1.12712565e-01  1.17787758e-01 -5.23840914e-02\n",
            "  2.09180333e-01  6.77849698e-05  1.51750086e-04 -6.03472162e-02\n",
            " -8.54312111e-02 -2.57770124e-02  7.40040791e-02  3.87117297e-02]\n"
          ]
        }
      ],
      "source": [
        "# run Ridge using the optimal lambda (alpha)\n",
        "\n",
        "ridge = linear_model.Ridge(alpha = 5)\n",
        "# 创建了一个岭回归对象 ridge，并将 alpha 参数设置为 5。\n",
        "# alpha 是正则化项的系数，可以控制模型的复杂度。当 alpha 越大时，正则化的程度就越强，模型就越简单。\n",
        "\n",
        "ridge_fit = ridge.fit(X_train, y_train)\n",
        "# 使用岭回归对象 ridge 对训练集 X_train 和目标变量 y_train 进行拟合，得到了一个训练好的模型 ridge_fit。\n",
        "\n",
        "print(ridge_fit.coef_)\n",
        "# 打印出模型的系数，也就是每个特征的权重。这些权重反映了每个特征对目标变量的影响程度，可以用来解释模型的行为。"
      ]
    },
    {
      "cell_type": "code",
      "execution_count": null,
      "metadata": {
        "colab": {
          "base_uri": "https://localhost:8080/"
        },
        "id": "SlxNLp7nbfVq",
        "outputId": "a02140d5-b69b-4453-910a-75ad06e7eab0"
      },
      "outputs": [
        {
          "name": "stdout",
          "output_type": "stream",
          "text": [
            "Training error:  0.06631664714550635\n",
            "Testing error:  0.04471550013962632\n"
          ]
        }
      ],
      "source": [
        "train_predict = ridge_fit.predict(X_train)\n",
        "test_predict = ridge_fit.predict(X_test)\n",
        "mse_train = metrics.mean_squared_error(y_true=y_train, y_pred=train_predict)\n",
        "mse_test = metrics.mean_squared_error(y_true=y_test, y_pred=test_predict)\n",
        "print('Training error: ', mse_train)\n",
        "print('Testing error: ', mse_test)"
      ]
    },
    {
      "cell_type": "code",
      "execution_count": null,
      "metadata": {
        "id": "T-FhHCljbfVr"
      },
      "outputs": [],
      "source": [
        "# use cross validation to select optimal hyperparameter lambda (alpha in python) for Lasso\n",
        "lasso_cv = linear_model.LassoCV(alphas=[0.1, 0.5, 1.0, 5, 10.0], cv = 5)\n",
        "lasso_cv_fit = lasso_cv.fit(X_train, y_train)"
      ]
    },
    {
      "cell_type": "code",
      "execution_count": null,
      "metadata": {
        "colab": {
          "base_uri": "https://localhost:8080/"
        },
        "id": "cg_eEArAbfVr",
        "outputId": "eb6cc294-2dcb-45c5-e053-5cfbc9bb953a"
      },
      "outputs": [
        {
          "name": "stdout",
          "output_type": "stream",
          "text": [
            "0.1\n"
          ]
        }
      ],
      "source": [
        "# print out the best alpha\n",
        "print(lasso_cv_fit.alpha_)"
      ]
    },
    {
      "cell_type": "code",
      "execution_count": null,
      "metadata": {
        "colab": {
          "base_uri": "https://localhost:8080/"
        },
        "id": "reBSMKSIbfVr",
        "outputId": "5f99fc8a-a667-487d-c94b-c9399410b969"
      },
      "outputs": [
        {
          "name": "stdout",
          "output_type": "stream",
          "text": [
            "[ 3.88412659e-03 -0.00000000e+00 -0.00000000e+00 -2.10446397e-03\n",
            " -0.00000000e+00  1.36920120e-01  0.00000000e+00  0.00000000e+00\n",
            "  0.00000000e+00  1.23450507e-04 -4.26660579e-04 -0.00000000e+00\n",
            " -4.32076003e-02 -0.00000000e+00  0.00000000e+00  0.00000000e+00]\n"
          ]
        }
      ],
      "source": [
        "# run Lasso using the optimal lambda (alpha)\n",
        "lasso = linear_model.Lasso(alpha = 0.1)\n",
        "lasso_fit = lasso.fit(X_train, y_train)\n",
        "print(lasso_fit.coef_)\n",
        "# αsmaller => more non-zero coef"
      ]
    },
    {
      "cell_type": "code",
      "execution_count": null,
      "metadata": {
        "colab": {
          "base_uri": "https://localhost:8080/"
        },
        "id": "26cgU4V3bfVr",
        "outputId": "10ff77a9-bfac-4912-bf2d-2e937f3b40f7"
      },
      "outputs": [
        {
          "name": "stdout",
          "output_type": "stream",
          "text": [
            "Training error:  0.11400553738094518\n",
            "Testing error:  0.11538058330936944\n"
          ]
        }
      ],
      "source": [
        "train_predict = lasso_fit.predict(X_train)\n",
        "test_predict = lasso_fit.predict(X_test)\n",
        "mse_train = metrics.mean_squared_error(y_true=y_train, y_pred=train_predict)\n",
        "mse_test = metrics.mean_squared_error(y_true=y_test, y_pred=test_predict)\n",
        "print('Training error: ', mse_train)\n",
        "print('Testing error: ', mse_test)"
      ]
    },
    {
      "cell_type": "markdown",
      "metadata": {
        "id": "UtyTk4mDbfVr"
      },
      "source": [
        "### Based on the results, we should go with Ridge with alpha = 5. Any insights?"
      ]
    },
    {
      "cell_type": "markdown",
      "metadata": {
        "id": "mjsqhe-uVJWw"
      },
      "source": [
        "与ordinary linear regression相比，coef区别不大，我们是为了adjust the complexity\n"
      ]
    }
  ],
  "metadata": {
    "colab": {
      "provenance": []
    },
    "kernelspec": {
      "display_name": "Python 3 (ipykernel)",
      "language": "python",
      "name": "python3"
    },
    "language_info": {
      "codemirror_mode": {
        "name": "ipython",
        "version": 3
      },
      "file_extension": ".py",
      "mimetype": "text/x-python",
      "name": "python",
      "nbconvert_exporter": "python",
      "pygments_lexer": "ipython3",
      "version": "3.9.7"
    }
  },
  "nbformat": 4,
  "nbformat_minor": 0
}
