{
  "cells": [
    {
      "cell_type": "markdown",
      "metadata": {
        "id": "vEBCt9RChTTG"
      },
      "source": [
        "# Introduction to Jupyter Notebook"
      ]
    },
    {
      "cell_type": "markdown",
      "metadata": {
        "id": "q0mkd4pNhTTJ"
      },
      "source": [
        "## 1. Python fundmentals"
      ]
    },
    {
      "cell_type": "code",
      "execution_count": 14,
      "metadata": {
        "colab": {
          "base_uri": "https://localhost:8080/"
        },
        "id": "56lq1vZGhTTK",
        "outputId": "530077f4-7ae9-4478-da99-795ef1995c94"
      },
      "outputs": [
        {
          "name": "stdout",
          "output_type": "stream",
          "text": [
            "Hello IS6400\n"
          ]
        }
      ],
      "source": [
        "print(\"Hello IS6400\")"
      ]
    },
    {
      "cell_type": "code",
      "execution_count": 15,
      "metadata": {
        "colab": {
          "base_uri": "https://localhost:8080/"
        },
        "id": "drUJ00nOhTTL",
        "outputId": "70d9721b-0efb-43d4-fed7-9a8ee8448b6a"
      },
      "outputs": [
        {
          "name": "stdout",
          "output_type": "stream",
          "text": [
            "11\n"
          ]
        }
      ],
      "source": [
        "a = 1+2\n",
        "b = 2**3 # 2^3\n",
        "c = a + b\n",
        "print(c)"
      ]
    },
    {
      "cell_type": "markdown",
      "metadata": {
        "id": "Y84NY5ujhTTM"
      },
      "source": [
        "#### NumPy is a library used for large, multi-dimensional arrays and matrices, along with a large collection of high-level mathematical functions to operate on these arrays. NumPy 是一个用于大型多维数组和矩阵的库，以及用于对这些数组进行操作的大量高级数学函数集合。"
      ]
    },
    {
      "cell_type": "code",
      "execution_count": 16,
      "metadata": {
        "colab": {
          "base_uri": "https://localhost:8080/"
        },
        "id": "L5l-tXawhTTM",
        "outputId": "f6bd5dc1-6070-45fd-e5c8-cb36c4b5c1b7"
      },
      "outputs": [
        {
          "name": "stdout",
          "output_type": "stream",
          "text": [
            "7.38905609893065\n"
          ]
        }
      ],
      "source": [
        "import numpy as np\n",
        "# e^2\n",
        "d = np.exp(2)\n",
        "print(d)"
      ]
    },
    {
      "cell_type": "markdown",
      "metadata": {
        "id": "2nLF46lXhTTN"
      },
      "source": [
        "#### OS library provides a portable way of using operating system dependent functionality.操作系统库提供了一种使用操作系统相关功能的可移植方式"
      ]
    },
    {
      "cell_type": "code",
      "execution_count": 17,
      "metadata": {
        "colab": {
          "base_uri": "https://localhost:8080/",
          "height": 35
        },
        "id": "iTaZyLethTTN",
        "outputId": "904a245a-c9f3-47f7-e798-ce9173d583f5"
      },
      "outputs": [
        {
          "data": {
            "application/vnd.google.colaboratory.intrinsic+json": {
              "type": "string"
            },
            "text/plain": [
              "'/content'"
            ]
          },
          "execution_count": 17,
          "metadata": {},
          "output_type": "execute_result"
        }
      ],
      "source": [
        "# check the current working directory\n",
        "import os\n",
        "os.getcwd()"
      ]
    },
    {
      "cell_type": "code",
      "execution_count": 18,
      "metadata": {
        "colab": {
          "base_uri": "https://localhost:8080/",
          "height": 191
        },
        "id": "0wgVamj8hTTN",
        "outputId": "af2c3a14-2c12-4885-c4a6-e105156120c9"
      },
      "outputs": [
        {
          "ename": "FileNotFoundError",
          "evalue": "ignored",
          "output_type": "error",
          "traceback": [
            "\u001b[0;31m---------------------------------------------------------------------------\u001b[0m",
            "\u001b[0;31mFileNotFoundError\u001b[0m                         Traceback (most recent call last)",
            "\u001b[0;32m<ipython-input-18-524ca0dfe45b>\u001b[0m in \u001b[0;36m<cell line: 2>\u001b[0;34m()\u001b[0m\n\u001b[1;32m      1\u001b[0m \u001b[0;31m# if you would like to change your directory, use os.chdir()\u001b[0m\u001b[0;34m\u001b[0m\u001b[0;34m\u001b[0m\u001b[0m\n\u001b[0;32m----> 2\u001b[0;31m \u001b[0mos\u001b[0m\u001b[0;34m.\u001b[0m\u001b[0mchdir\u001b[0m\u001b[0;34m(\u001b[0m\u001b[0;34m\"path to the directory\"\u001b[0m\u001b[0;34m)\u001b[0m\u001b[0;34m\u001b[0m\u001b[0;34m\u001b[0m\u001b[0m\n\u001b[0m",
            "\u001b[0;31mFileNotFoundError\u001b[0m: [Errno 2] No such file or directory: 'path to the directory'"
          ]
        }
      ],
      "source": [
        "# if you would like to change your directory, use os.chdir()\n",
        "os.chdir(\"path to the directory\")"
      ]
    },
    {
      "cell_type": "markdown",
      "metadata": {
        "id": "gzRNScFChTTO"
      },
      "source": [
        "#### Pandas is a library used for data manipulation and analysis. In particular, it offers data structures and operations for manipulating numerical tables and time series.Pandas是一个用于数据操作和分析的库。特别是，它提供了用于操作数字表和时间序列的数据结构和操作。"
      ]
    },
    {
      "cell_type": "code",
      "execution_count": 19,
      "metadata": {
        "id": "my4_iMfQhTTO"
      },
      "outputs": [],
      "source": [
        "# import data using pandas package\n",
        "import pandas as pd\n",
        "crash = pd.read_csv(\"austin_crash.csv\")"
      ]
    },
    {
      "attachments": {},
      "cell_type": "markdown",
      "metadata": {},
      "source": [
        "import pandas as pd \n",
        "这行代码使用 import 命令导入 Pandas 库，并为其创建别名 \"pd\"。这意味着在代码中，我们可以用 pd 来代替 pandas。\n",
        "\n",
        "crash = pd.read_csv(\"austin_crash.csv\")\n",
        "调用 Pandas 库中的 read_csv() 函数，读取名为 \"austin_crash.csv\" 的 CSV 文件。读取完成后，将数据存储在一个名为 \"crash\" 的 Pandas 数据帧中。数据帧是一种表格形式的数据结构，类似于电子表格。"
      ]
    },
    {
      "cell_type": "markdown",
      "metadata": {
        "id": "FtHfzYSUhTTO"
      },
      "source": [
        "## 2. Simple data manipulations"
      ]
    },
    {
      "cell_type": "code",
      "execution_count": 21,
      "metadata": {
        "colab": {
          "base_uri": "https://localhost:8080/"
        },
        "id": "ORv7Fx7jhTTP",
        "outputId": "32ad95b7-54d3-40bd-996f-f3ab9ec6eab7"
      },
      "outputs": [
        {
          "name": "stdout",
          "output_type": "stream",
          "text": [
            "(32859, 15)\n"
          ]
        }
      ],
      "source": [
        "# print dimension of our data\n",
        "print(crash.shape)"
      ]
    },
    {
      "attachments": {},
      "cell_type": "markdown",
      "metadata": {},
      "source": [
        "print(crash.shape)用于显示名为\"crash\"的数据集的形状或维度。\n",
        "\n",
        "crash\"是一个数据集或NumPy数组，该代码将打印出一个元组，其中包含数据集的行数和列数。例如，如果数据集包含1000行和10列，那么代码将打印出(1000, 10)。\n",
        "\n",
        "这个代码可以帮助我们了解数据集的大小和形状，以便更好地理解和处理数据。"
      ]
    },
    {
      "cell_type": "code",
      "execution_count": 22,
      "metadata": {
        "colab": {
          "base_uri": "https://localhost:8080/"
        },
        "id": "4rxSDmKbhTTP",
        "outputId": "3b7aefeb-8f72-4a58-ddb0-91b0b79fd02e"
      },
      "outputs": [
        {
          "name": "stdout",
          "output_type": "stream",
          "text": [
            "   Crash_ID    Make  Model_Year  Body_Style  Age  Gender  Total_Injury  Death  \\\n",
            "0  15305026    Ford      2015.0      Pickup   43    Male             0      0   \n",
            "1  15305026    Ford      2015.0      Pickup   30    Male             0      0   \n",
            "2  15636003  Nissan      2015.0  Car 4 door   27    Male             1      0   \n",
            "3  15636003  Nissan      2015.0  Car 4 door   21  Female             1      0   \n",
            "4  15636003  Nissan      2015.0  Car 4 door   69  Female             1      0   \n",
            "\n",
            "  Crash_Date  Crash_Year  Crash_Month  Crash_Week_Day Crash_Time   Latitude  \\\n",
            "0     9/3/16        2016            9               6   12:00 AM  30.167140   \n",
            "1     9/3/16        2016            9               6   12:00 AM  30.167140   \n",
            "2     3/8/17        2017            3               3    3:00 PM  30.426613   \n",
            "3     3/8/17        2017            3               3    3:00 PM  30.426613   \n",
            "4     3/8/17        2017            3               3    3:00 PM  30.426613   \n",
            "\n",
            "   Longitude  \n",
            "0  -97.79110  \n",
            "1  -97.79110  \n",
            "2  -97.67604  \n",
            "3  -97.67604  \n",
            "4  -97.67604  \n"
          ]
        }
      ],
      "source": [
        "# print out first 5 rows of the data\n",
        "print(crash.head())"
      ]
    },
    {
      "cell_type": "code",
      "execution_count": 23,
      "metadata": {
        "colab": {
          "base_uri": "https://localhost:8080/"
        },
        "id": "paobDh8qhTTP",
        "outputId": "9cc15877-2fc8-4c3d-94f4-d8f733335e05"
      },
      "outputs": [
        {
          "name": "stdout",
          "output_type": "stream",
          "text": [
            "0          Ford\n",
            "1          Ford\n",
            "2        Nissan\n",
            "3        Nissan\n",
            "4        Nissan\n",
            "          ...  \n",
            "32854    Toyota\n",
            "32855     Honda\n",
            "32856     Honda\n",
            "32857      Ford\n",
            "32858      Ford\n",
            "Name: Make, Length: 32859, dtype: object\n"
          ]
        }
      ],
      "source": [
        "# check the column of Make\n",
        "print(crash['Make'])"
      ]
    },
    {
      "attachments": {},
      "cell_type": "markdown",
      "metadata": {},
      "source": [
        "print(crash['Make'])打印名为\"Make\"的列。\n",
        "数据集中包含了关于车辆事故的信息，\"Make\"列可能包含有关参与事故的车辆品牌的信息。因此，这行代码将显示所有车辆的品牌信息，每个品牌名字在单独的行中显示。\n",
        "\n",
        "需要注意的是，这行代码的具体输出内容取决于数据集中\"Make\"列的具体数据。例如，如果数据集中有三个品牌的车辆（Ford、Honda、Toyota），那么代码将会打印：\n",
        "0      Ford\n",
        "1     Honda\n",
        "2    Toyota\n",
        "Name: Make, dtype: object\n",
        "\n",
        "这行代码是Pandas库的一部分，Pandas是一个Python数据分析库，用于处理和分析具有标签行和列的数据集。"
      ]
    },
    {
      "cell_type": "code",
      "execution_count": 24,
      "metadata": {
        "colab": {
          "base_uri": "https://localhost:8080/"
        },
        "id": "mg4Rzat6hTTQ",
        "outputId": "4e822fd1-37a3-481a-e1f7-e97827d65092"
      },
      "outputs": [
        {
          "name": "stdout",
          "output_type": "stream",
          "text": [
            "       Age  Gender\n",
            "0       43    Male\n",
            "1       30    Male\n",
            "2       27    Male\n",
            "3       21  Female\n",
            "4       69  Female\n",
            "...    ...     ...\n",
            "32854   28    Male\n",
            "32855   32    Male\n",
            "32856   42    Male\n",
            "32857   29    Male\n",
            "32858   27  Female\n",
            "\n",
            "[32859 rows x 2 columns]\n"
          ]
        }
      ],
      "source": [
        "# check the columns of Age and Gender\n",
        "print(crash[['Age','Gender']])"
      ]
    },
    {
      "attachments": {},
      "cell_type": "markdown",
      "metadata": {},
      "source": [
        "print(crash[['Age','Gender']]) 使用了Pandas库中的DataFrame类型对象crash，打印了该对象中的\"Age\"和\"Gender\"两列"
      ]
    },
    {
      "attachments": {},
      "cell_type": "markdown",
      "metadata": {},
      "source": [
        "DataFrame是Pandas库中最重要的数据结构之一，它是一个二维的表格型数据结构，类似于电子表格或SQL数据库中的表格。\n",
        "\n",
        "DataFrame通常由多个行和多个列组成，其中每个列可以包含不同的数据类型（例如字符串、整数、浮点数等），而每个行则表示一个独立的观测结果或样本。DataFrame可以存储和处理大量数据，并且可以使用许多内置函数和方法进行数据清洗、转换、分析和可视化。\n",
        "\n",
        "Pandas中的DataFrame类型对象由三个主要的部分构成：列、索引和数据。列是数据表格中的列名，索引是行标签，用于对每行进行唯一标识，而数据是具体的数据值。\n",
        "\n",
        "要创建一个DataFrame对象，通常可以使用Pandas库提供的read_csv()函数从CSV文件中读取数据，或者使用Python列表、字典等数据类型手动创建。例如，下面的代码演示了如何创建一个简单的DataFrame对象：\n",
        "import pandas as pd\n",
        "\n",
        "data = {'name': ['Alice', 'Bob', 'Charlie', 'David'],\n",
        "        'age': [25, 30, 35, 40],\n",
        "        'gender': ['F', 'M', 'M', 'M']}\n",
        "\n",
        "df = pd.DataFrame(data)\n",
        "这将创建一个包含三列（name、age和gender）和四行的DataFrame对象，其中每一行表示一个人的姓名、年龄和性别信息。"
      ]
    },
    {
      "cell_type": "markdown",
      "metadata": {
        "id": "tcN6URo6hTTQ"
      },
      "source": [
        "## 3. Data exploration"
      ]
    },
    {
      "cell_type": "code",
      "execution_count": 25,
      "metadata": {
        "colab": {
          "base_uri": "https://localhost:8080/",
          "height": 515
        },
        "id": "6fxTmNMMhTTR",
        "outputId": "b864c027-d037-4e95-c520-9b839c9a5b97"
      },
      "outputs": [
        {
          "name": "stdout",
          "output_type": "stream",
          "text": [
            "Gender\n",
            "Female     13735\n",
            "Male       19050\n",
            "Unknown       74\n",
            "Name: Crash_ID, dtype: int64\n"
          ]
        },
        {
          "data": {
            "text/plain": [
              "<Axes: ylabel='Count'>"
            ]
          },
          "execution_count": 25,
          "metadata": {},
          "output_type": "execute_result"
        },
        {
          "data": {
            "image/png": "[encoded data removed]",
            "text/plain": [
              "<Figure size 640x480 with 1 Axes>"
            ]
          },
          "metadata": {},
          "output_type": "display_data"
        }
      ],
      "source": [
        "# how many are male / female drivers who were involved in accidents? \n",
        "crash_by_gender = crash.groupby('Gender')['Crash_ID'].count()\n",
        "print(crash_by_gender)\n",
        "crash_by_gender.plot.pie(ylabel = 'Count')"
      ]
    },
    {
      "attachments": {},
      "cell_type": "markdown",
      "metadata": {},
      "source": [
        "crash_by_gender = crash.groupby('Gender')['Crash_ID'].count()\n",
        "\n",
        "使用了Pandas中的groupby()函数，将crash DataFrame对象按照\"Gender\"列进行分组，并统计每组中的\"Crash_ID\"列的数量。结果存储在一个Series对象crash_by_gender中，其中索引为\"Gender\"列中的唯一值，值为每个组中的\"Crash_ID\"计数。\n",
        "\n",
        "\n",
        "\n",
        "crash_by_gender.plot.pie(ylabel = 'Count')\n",
        "\n",
        "使用了Pandas中Series类型的plot()函数，将crash_by_gender对象绘制成饼图。这里的ylabel参数指定了饼图的标签，即\"Count\"。\n",
        "\n",
        "代码片段依赖于Pandas和Matplotlib库，因此需要先导入这些库。例如，可以使用以下命令导入这些库：\n",
        "import pandas as pd\n",
        "import matplotlib.pyplot as plt\n",
        "这将导入Pandas和Matplotlib库，并将Matplotlib的pyplot子库重命名为plt，以便更容易地使用它的函数。"
      ]
    },
    {
      "cell_type": "code",
      "execution_count": 26,
      "metadata": {
        "colab": {
          "base_uri": "https://localhost:8080/",
          "height": 722
        },
        "id": "8FCHSI3YhTTR",
        "outputId": "3fc56fda-e232-43c6-ff0a-d57642554afe"
      },
      "outputs": [
        {
          "name": "stdout",
          "output_type": "stream",
          "text": [
            "Crash_Month\n",
            "1     1095\n",
            "2      945\n",
            "3      264\n",
            "4      445\n",
            "5      330\n",
            "6      903\n",
            "7     4491\n",
            "8     7273\n",
            "9     4560\n",
            "10    4694\n",
            "11    4058\n",
            "12    3801\n",
            "Name: Crash_ID, dtype: int64\n"
          ]
        },
        {
          "data": {
            "text/plain": [
              "<Axes: xlabel='Crash_Month'>"
            ]
          },
          "execution_count": 26,
          "metadata": {},
          "output_type": "execute_result"
        },
        {
          "data": {
            "image/png": "[encoded data removed]",
            "text/plain": [
              "<Figure size 640x480 with 1 Axes>"
            ]
          },
          "metadata": {},
          "output_type": "display_data"
        }
      ],
      "source": [
        "# what is the trend of number of accidents in different months?\n",
        "crash_by_month = crash.groupby('Crash_Month')['Crash_ID'].count()\n",
        "print(crash_by_month)\n",
        "crash_by_month.plot.line()"
      ]
    },
    {
      "attachments": {},
      "cell_type": "markdown",
      "metadata": {},
      "source": [
        "crash_by_month = crash.groupby('Crash_Month')['Crash_ID'].count()\n",
        "\n",
        "读取先前创建的 Pandas 数据帧 \"crash\"，对 \"Crash_Month\" 列进行分组，计算每个月的 \"Crash_ID\" 列的数量，并将结果存储在名为 \"crash_by_month\" 的 Pandas 数据帧中\n",
        "\n",
        "\n",
        "crash_by_month.plot.line()\n",
        "\n",
        "使用 plot() 函数绘制了 \"crash_by_month\" 数据帧中的线形图，其中横轴为月份，纵轴为每个月的 \"Crash_ID\" 数量。这将有助于可视化数据，以便更好地理解交通事故的数量和趋势。"
      ]
    },
    {
      "cell_type": "code",
      "execution_count": 27,
      "metadata": {
        "colab": {
          "base_uri": "https://localhost:8080/"
        },
        "id": "jBk--8yXhTTS",
        "outputId": "a226bd5e-0ce7-41b6-811e-3a4d9039ee30"
      },
      "outputs": [
        {
          "data": {
            "text/plain": [
              "count    32859.000000\n",
              "mean        37.061170\n",
              "std         14.930789\n",
              "min         16.000000\n",
              "25%         25.000000\n",
              "50%         34.000000\n",
              "75%         46.000000\n",
              "max        117.000000\n",
              "Name: Age, dtype: float64"
            ]
          },
          "execution_count": 27,
          "metadata": {},
          "output_type": "execute_result"
        }
      ],
      "source": [
        "# check the statistics summary of the numeric variable Age  检查数值变量年龄的统计摘要\n",
        "crash['Age'].describe()"
      ]
    },
    {
      "attachments": {},
      "cell_type": "markdown",
      "metadata": {},
      "source": [
        "读取 Pandas 数据帧 \"crash\" 中的 \"Age\" 列，并使用 describe() 函数生成有关该列数据的统计信息概要。\n",
        "\n",
        "describe() 函数将返回一些关键统计信息，包括：\n",
        "\n",
        "count：数据中的非空值数量。\n",
        "\n",
        "mean：数据的平均值。\n",
        "\n",
        "std：数据的标准差。\n",
        "\n",
        "min：数据中的最小值。\n",
        "\n",
        "25%：数据中的第一四分位数。\n",
        "\n",
        "50%：数据中的中位数或第二四分位数\n",
        "。\n",
        "75%：数据中的第三四分位数。\n",
        "\n",
        "max：数据中的最大值。\n",
        "\n",
        "这些统计信息可以提供关于数据分布、离群值和缺失值等方面的洞察。"
      ]
    },
    {
      "cell_type": "code",
      "execution_count": 28,
      "metadata": {
        "colab": {
          "base_uri": "https://localhost:8080/",
          "height": 448
        },
        "id": "V52_5anohTTS",
        "outputId": "dde06b6f-6c7b-42b0-d2a5-61e34681a502"
      },
      "outputs": [
        {
          "data": {
            "text/plain": [
              "<Axes: >"
            ]
          },
          "execution_count": 28,
          "metadata": {},
          "output_type": "execute_result"
        },
        {
          "data": {
            "image/png": "[encoded data removed]",
            "text/plain": [
              "<Figure size 640x480 with 1 Axes>"
            ]
          },
          "metadata": {},
          "output_type": "display_data"
        }
      ],
      "source": [
        "\n",
        "# get boxplot of Age\n",
        "crash.boxplot('Age')"
      ]
    },
    {
      "attachments": {},
      "cell_type": "markdown",
      "metadata": {},
      "source": [
        "读取 Pandas 数据帧 \"crash\" 中的 \"Age\" 列，并使用 boxplot() 函数生成该列数据的箱形图。箱形图可以展示数据的中位数、四分位数、离群值等信息，从而提供有关数据分布和异常值的洞察。\n",
        "\n",
        "在这个例子中，箱形图将显示 \"Age\" 列数据的分布情况。图中会显示一个箱子，箱子的底部边缘是第一四分位数(Q1)，顶部边缘是第三四分位数(Q3)，箱子的中位数是在 Q1 和 Q3 中间的线。箱子内部的百分之五十数据都在 Q1 和 Q3 之间。在箱子上方和下方，可以看到一些线段，称为 \"whiskers\"，它们是用来展示数据的整体分布情况。如果有数据点在箱子外面，则会被视为离群值，并单独绘制。"
      ]
    },
    {
      "cell_type": "code",
      "execution_count": 29,
      "metadata": {
        "colab": {
          "base_uri": "https://localhost:8080/",
          "height": 470
        },
        "id": "0XxJiGUPhTTT",
        "outputId": "f28ffda6-ff9c-465a-ae82-f8a37ca1d549"
      },
      "outputs": [
        {
          "data": {
            "text/plain": [
              "array([[<Axes: title={'center': 'Age'}>]], dtype=object)"
            ]
          },
          "execution_count": 29,
          "metadata": {},
          "output_type": "execute_result"
        },
        {
          "data": {
            "image/png": "[encoded data removed]",
            "text/plain": [
              "<Figure size 640x480 with 1 Axes>"
            ]
          },
          "metadata": {},
          "output_type": "display_data"
        }
      ],
      "source": [
        "crash.hist('Age', bins = 100)"
      ]
    },
    {
      "attachments": {},
      "cell_type": "markdown",
      "metadata": {},
      "source": [
        "读取 Pandas 数据帧 \"crash\" 中的 \"Age\" 列，并使用 hist() 函数生成该列数据的直方图。直方图是一种图表类型，用于展示数据的分布情况。\n",
        "\n",
        "在这个例子中，hist() 函数将显示 \"Age\" 列数据的频数分布情况。直方图将数据值分成若干个区间（也称为 \"bin\"），并显示每个区间内的数据数量。这个例子中，bins=100 参数指定将数据范围分成 100 个区间，并显示每个区间内的数据数量。每个条形的高度表示数据值在该区间内出现的频率。\n",
        "\n",
        "直方图可以帮助我们了解数据的分布情况，如数据集是否对称、集中在哪个范围、存在哪些离群值等。"
      ]
    },
    {
      "cell_type": "code",
      "execution_count": 30,
      "metadata": {
        "id": "ywsEp6p6hTTT"
      },
      "outputs": [],
      "source": [
        "# remove outliers in Age above 80\n",
        "crash_clean = crash.loc[crash['Age'] < 80]"
      ]
    },
    {
      "attachments": {},
      "cell_type": "markdown",
      "metadata": {},
      "source": [
        "crash.loc 是一个 Pandas DataFrame 对象的属性，用于定位行和列的数据。\n",
        "\n",
        "crash.loc[crash['Age'] < 80] 将返回一个新的数据帧对象，其中包含 \"crash\" 数据帧中 \"Age\" 列小于 80 的所有行。它使用布尔索引来选择满足条件的行，并返回一个新的数据帧对象。这个新的数据帧对象可以用来进行后续的分析和可视化操作。"
      ]
    },
    {
      "cell_type": "code",
      "execution_count": 31,
      "metadata": {
        "colab": {
          "base_uri": "https://localhost:8080/",
          "height": 470
        },
        "id": "iC6QO8N-hTTT",
        "outputId": "3b47d6f1-56d9-4c9b-a129-7198c75afecd"
      },
      "outputs": [
        {
          "data": {
            "text/plain": [
              "array([[<Axes: title={'center': 'Age'}>]], dtype=object)"
            ]
          },
          "execution_count": 31,
          "metadata": {},
          "output_type": "execute_result"
        },
        {
          "data": {
            "image/png": "[encoded data removed]",
            "text/plain": [
              "<Figure size 640x480 with 1 Axes>"
            ]
          },
          "metadata": {},
          "output_type": "display_data"
        }
      ],
      "source": [
        "# check distribution again\n",
        "crash_clean.hist('Age', bins = 100)\n",
        "\n",
        "# 由于在上一个代码中已经将年龄大于等于 80 岁的行过滤掉了，因此这个直方图可以更准确地反映年龄数据的分布情况。\n",
        "# 直方图可以帮助我们了解数据的分布情况，例如数据集是否对称、集中在哪个范围、存在哪些离群值等。"
      ]
    },
    {
      "cell_type": "code",
      "execution_count": 32,
      "metadata": {
        "colab": {
          "base_uri": "https://localhost:8080/"
        },
        "id": "LGTDoxpShTTU",
        "outputId": "68c0c288-454e-402e-f82f-7dc33811f835"
      },
      "outputs": [
        {
          "name": "stderr",
          "output_type": "stream",
          "text": [
            "<ipython-input-32-2ffac993bb1b>:2: SettingWithCopyWarning: \n",
            "A value is trying to be set on a copy of a slice from a DataFrame.\n",
            "Try using .loc[row_indexer,col_indexer] = value instead\n",
            "\n",
            "See the caveats in the documentation: https://pandas.pydata.org/pandas-docs/stable/user_guide/indexing.html#returning-a-view-versus-a-copy\n",
            "  crash_clean['log_Age'] = np.log(crash_clean['Age'])\n"
          ]
        }
      ],
      "source": [
        "# still a little bit right skewed, let's take log\n",
        "crash_clean['log_Age'] = np.log(crash_clean['Age'])"
      ]
    },
    {
      "attachments": {},
      "cell_type": "markdown",
      "metadata": {},
      "source": [
        "创建\"log_Age\" 新列，其值是 \"Age\" 列的自然对数。使用了 numpy 库中的 log() 函数，它接受一个数组作为输入，并返回该数组中每个元素的自然对数。为了将自然对数计算结果保存到新列中，代码使用了 Pandas 数据帧对象的列索引方式进行操作：crash_clean['log_Age']。\n",
        "\n",
        "通过计算自然对数，这个代码可能是为了将 \"Age\" 列的数据进行归一化或标准化，使它们更容易在数据分析和建模中使用。自然对数可以将数据值的量级缩小，同时保留数据值之间的相对关系，这在某些数据分析和建模技术中非常有用。"
      ]
    },
    {
      "cell_type": "code",
      "execution_count": 33,
      "metadata": {
        "colab": {
          "base_uri": "https://localhost:8080/",
          "height": 633
        },
        "id": "BPF0g_2BhTTU",
        "outputId": "be4968d2-375c-4179-b5ff-887ac50ac3e5"
      },
      "outputs": [
        {
          "name": "stdout",
          "output_type": "stream",
          "text": [
            "count    32606.000000\n",
            "mean         3.528658\n",
            "std          0.382798\n",
            "min          2.772589\n",
            "25%          3.218876\n",
            "50%          3.496508\n",
            "75%          3.828641\n",
            "max          4.369448\n",
            "Name: log_Age, dtype: float64\n"
          ]
        },
        {
          "data": {
            "text/plain": [
              "array([[<Axes: title={'center': 'log_Age'}>]], dtype=object)"
            ]
          },
          "execution_count": 33,
          "metadata": {},
          "output_type": "execute_result"
        },
        {
          "data": {
            "image/png": "[encoded data removed]",
            "text/plain": [
              "<Figure size 640x480 with 1 Axes>"
            ]
          },
          "metadata": {},
          "output_type": "display_data"
        }
      ],
      "source": [
        "print(crash_clean['log_Age'].describe())\n",
        "crash_clean.hist('log_Age', bins = 100)"
      ]
    },
    {
      "attachments": {},
      "cell_type": "markdown",
      "metadata": {
        "id": "YOhV3SM7hTTV"
      },
      "source": [
        "## Assignment 1 (10 points):\n",
        "### Please complete the following questions using this jupyter notebook, SAVE it as HTML and upload to canvas (File -> Download as -> HTML). This assignment will be due in two weeks. \n",
        "\n",
        "#### (1) (2 points) Import `load_summer.csv` and print out the first 5 rows of the data. Make sure the `load_summer.csv` is stored in your current working directory. \n",
        "#### (2) (2 points) Print out the summary statistics of the variable COAST. 打印出变量 COAST 的汇总统计数据。\n",
        "#### (3) (2 points) Plot a histogram of the variable COAST. Set bins = 100. 绘制变量海岸的直方图。设置箱 = 100。\n",
        "#### (4) (4 points) Plot the trend of the average COAST over hour. Hint: First apply `groupby()` function and `mean()` function to get average value of COAST over hour. Then apply `plot.line()`. 绘制平均海岸在小时内的趋势。提示：首先应用 'groupby（）' 函数和 'mean（）' 函数来获取 COAST 在小时内的平均值。然后应用 'plot.line（）'。"
      ]
    },
    {
      "cell_type": "markdown",
      "metadata": {
        "id": "dzFc31cgcqt2"
      },
      "source": [
        "(1)"
      ]
    },
    {
      "cell_type": "code",
      "execution_count": 34,
      "metadata": {
        "id": "_ZKSawd5hTTV"
      },
      "outputs": [],
      "source": [
        "import pandas as pd"
      ]
    },
    {
      "cell_type": "code",
      "execution_count": 35,
      "metadata": {
        "id": "cZh3mYD3iFVC"
      },
      "outputs": [],
      "source": [
        "summer = pd.read_csv(\"load_summer.csv\")"
      ]
    },
    {
      "cell_type": "code",
      "execution_count": 36,
      "metadata": {
        "colab": {
          "base_uri": "https://localhost:8080/"
        },
        "id": "KgWTbrxbiF5L",
        "outputId": "a8f41775-849d-44b7-ed1c-019dfdd0164e"
      },
      "outputs": [
        {
          "name": "stdout",
          "output_type": "stream",
          "text": [
            "         COAST  temp  weekday    date  hour\n",
            "0  10859.02310  23.1        1  6/1/10     9\n",
            "1  11750.15184  23.1        1  6/1/10    10\n",
            "2  12645.00556  23.1        1  6/1/10    11\n",
            "3  13422.53047  26.1        1  6/1/10    12\n",
            "4  14135.83310  27.1        1  6/1/10    13\n"
          ]
        }
      ],
      "source": [
        "print(summer.head())"
      ]
    },
    {
      "cell_type": "markdown",
      "metadata": {
        "id": "HxVCdUfQcwvw"
      },
      "source": [
        "(2)"
      ]
    },
    {
      "cell_type": "code",
      "execution_count": 37,
      "metadata": {
        "colab": {
          "base_uri": "https://localhost:8080/"
        },
        "id": "ZeQNbcoTcyMl",
        "outputId": "8db07b69-9cf9-4723-9ac2-351846914cda"
      },
      "outputs": [
        {
          "data": {
            "text/plain": [
              "count     5820.000000\n",
              "mean     14834.326813\n",
              "std       2120.928312\n",
              "min       9276.922926\n",
              "25%      13148.745592\n",
              "50%      15059.883320\n",
              "75%      16529.613120\n",
              "max      19928.724770\n",
              "Name: COAST, dtype: float64"
            ]
          },
          "execution_count": 37,
          "metadata": {},
          "output_type": "execute_result"
        }
      ],
      "source": [
        "summer['COAST'].describe()"
      ]
    },
    {
      "cell_type": "markdown",
      "metadata": {
        "id": "VFxHytNxdUCQ"
      },
      "source": [
        "(3)"
      ]
    },
    {
      "cell_type": "code",
      "execution_count": 38,
      "metadata": {
        "colab": {
          "base_uri": "https://localhost:8080/",
          "height": 470
        },
        "id": "F2fWOeP9dPDQ",
        "outputId": "2f411aaa-f487-45f1-ac3b-86436b7701df"
      },
      "outputs": [
        {
          "data": {
            "text/plain": [
              "array([[<Axes: title={'center': 'COAST'}>]], dtype=object)"
            ]
          },
          "execution_count": 38,
          "metadata": {},
          "output_type": "execute_result"
        },
        {
          "data": {
            "image/png": "[encoded data removed]",
            "text/plain": [
              "<Figure size 640x480 with 1 Axes>"
            ]
          },
          "metadata": {},
          "output_type": "display_data"
        }
      ],
      "source": [
        "summer.hist('COAST', bins = 100)"
      ]
    },
    {
      "cell_type": "markdown",
      "metadata": {
        "id": "NrqIz8Ucdztr"
      },
      "source": [
        "(4)"
      ]
    },
    {
      "cell_type": "code",
      "execution_count": 39,
      "metadata": {
        "colab": {
          "base_uri": "https://localhost:8080/",
          "height": 467
        },
        "id": "rLWCDsmhdtgO",
        "outputId": "59eaf627-4c37-4b06-f344-85932c44ebba"
      },
      "outputs": [
        {
          "data": {
            "text/plain": [
              "<Axes: xlabel='hour'>"
            ]
          },
          "execution_count": 39,
          "metadata": {},
          "output_type": "execute_result"
        },
        {
          "data": {
            "image/png": "[encoded data removed]",
            "text/plain": [
              "<Figure size 640x480 with 1 Axes>"
            ]
          },
          "metadata": {},
          "output_type": "display_data"
        }
      ],
      "source": [
        "summer_by_hour = summer.groupby('hour')['COAST'].mean()\n",
        "summer_by_hour.plot.line()"
      ]
    },
    {
      "cell_type": "markdown",
      "metadata": {
        "id": "8fneecZJ_zIE"
      },
      "source": [
        "More on pandas Series vs pandas Dataframe"
      ]
    },
    {
      "cell_type": "code",
      "execution_count": 40,
      "metadata": {
        "colab": {
          "base_uri": "https://localhost:8080/"
        },
        "id": "eY8DqxPh_zIE",
        "outputId": "64d5f649-fa4d-4574-c95e-c302a86b4b76"
      },
      "outputs": [
        {
          "data": {
            "text/plain": [
              "pandas.core.series.Series"
            ]
          },
          "execution_count": 40,
          "metadata": {},
          "output_type": "execute_result"
        }
      ],
      "source": [
        "type(summer_by_hour)\n",
        "\n",
        "# 获取 summer_by_hour 变量的类型。type() 是一个内置的 Python 函数，用于返回一个对象的类型。\n",
        "# 在这个例子中，summer_by_hour 变量很可能是一个 Pandas 数据帧对象或者 Pandas 序列对象，因为它是由 Pandas 库的 groupby() 函数生成的。\n",
        "# 为了确认 summer_by_hour 的确切类型，使用 type() 函数可以返回一个字符串表示 summer_by_hour 变量的类型。\n",
        "# 例如，如果 summer_by_hour 是一个 Pandas 数据帧对象，那么运行 type(summer_by_hour) 将返回 <class 'pandas.core.frame.DataFrame'>。\n",
        "# 如果 summer_by_hour 是一个 Pandas 序列对象，那么运行 type(summer_by_hour) 将返回 <class 'pandas.core.series.Series'>。"
      ]
    },
    {
      "cell_type": "code",
      "execution_count": 41,
      "metadata": {
        "colab": {
          "base_uri": "https://localhost:8080/"
        },
        "id": "K9LUioiu_zIE",
        "outputId": "822ab46c-92bf-414b-9049-9bae6a6493f3"
      },
      "outputs": [
        {
          "data": {
            "text/plain": [
              "hour\n",
              "9     11652.704393\n",
              "10    12607.869052\n",
              "11    13597.006934\n",
              "12    14481.301405\n",
              "13    15178.029117\n",
              "14    15748.938608\n",
              "15    16149.174541\n",
              "16    16369.773180\n",
              "17    16392.104322\n",
              "18    16166.366575\n",
              "Name: COAST, dtype: float64"
            ]
          },
          "execution_count": 41,
          "metadata": {},
          "output_type": "execute_result"
        }
      ],
      "source": [
        "summer_by_hour\n",
        "# 如果 summer_by_hour 是一个已经定义并且存储有数据的变量名，那么这行代码应该是用来查看 summer_by_hour 变量的值。\n",
        "# 在 Python 中，可以通过直接输出变量名的方式来查看变量的值。\n",
        "\n",
        "# 如果 summer_by_hour 是一个 Pandas 数据帧对象或者 Pandas 序列对象，那么这行代码将返回一个类似于表格或数组的数据结构，其中包含了数据的具体值。\n",
        "# 这个数据结构可以用于进行进一步的数据分析和可视化操作。"
      ]
    },
    {
      "cell_type": "code",
      "execution_count": 42,
      "metadata": {
        "colab": {
          "base_uri": "https://localhost:8080/"
        },
        "id": "kaC4NR6tAEiI",
        "outputId": "c12fb696-092b-4698-d89f-2ba5ae83ccc7"
      },
      "outputs": [
        {
          "data": {
            "text/plain": [
              "Int64Index([9, 10, 11, 12, 13, 14, 15, 16, 17, 18], dtype='int64', name='hour')"
            ]
          },
          "execution_count": 42,
          "metadata": {},
          "output_type": "execute_result"
        }
      ],
      "source": [
        "summer_by_hour.index\n",
        "\n",
        "# 如果 summer_by_hour 是一个 Pandas 数据帧对象或者 Pandas 序列对象，那么 summer_by_hour.index 将返回对象的索引。\n",
        "# 在 Pandas 中，索引是一种用于标识行或列的标签，并且索引可以具有层次结构，因此可以进行多级索引。索引的类型取决于数据类型和索引的构建方式。\n",
        "# \n",
        "# 例如，如果 summer_by_hour 是一个 Pandas 数据帧对象，则 summer_by_hour.index 将返回一个索引对象，该对象描述了数据帧的行标签。\n",
        "# 这个索引对象的类型是 Pandas 的 Index 类型，可以使用类似于列表的方式进行索引和切片操作。\n",
        "# 另外，如果 summer_by_hour 是一个 Pandas 序列对象，则 summer_by_hour.index 将返回一个索引对象，该对象描述了序列的行标签。"
      ]
    },
    {
      "cell_type": "code",
      "execution_count": 43,
      "metadata": {
        "colab": {
          "base_uri": "https://localhost:8080/",
          "height": 487
        },
        "id": "B-ySJQPlAEec",
        "outputId": "ae95277d-fc98-401f-9616-39872702d45e"
      },
      "outputs": [
        {
          "ename": "KeyError",
          "evalue": "ignored",
          "output_type": "error",
          "traceback": [
            "\u001b[0;31m---------------------------------------------------------------------------\u001b[0m",
            "\u001b[0;31mKeyError\u001b[0m                                  Traceback (most recent call last)",
            "\u001b[0;32m/usr/local/lib/python3.9/dist-packages/pandas/core/indexes/base.py\u001b[0m in \u001b[0;36mget_loc\u001b[0;34m(self, key, method, tolerance)\u001b[0m\n\u001b[1;32m   3628\u001b[0m             \u001b[0;32mtry\u001b[0m\u001b[0;34m:\u001b[0m\u001b[0;34m\u001b[0m\u001b[0;34m\u001b[0m\u001b[0m\n\u001b[0;32m-> 3629\u001b[0;31m                 \u001b[0;32mreturn\u001b[0m \u001b[0mself\u001b[0m\u001b[0;34m.\u001b[0m\u001b[0m_engine\u001b[0m\u001b[0;34m.\u001b[0m\u001b[0mget_loc\u001b[0m\u001b[0;34m(\u001b[0m\u001b[0mcasted_key\u001b[0m\u001b[0;34m)\u001b[0m\u001b[0;34m\u001b[0m\u001b[0;34m\u001b[0m\u001b[0m\n\u001b[0m\u001b[1;32m   3630\u001b[0m             \u001b[0;32mexcept\u001b[0m \u001b[0mKeyError\u001b[0m \u001b[0;32mas\u001b[0m \u001b[0merr\u001b[0m\u001b[0;34m:\u001b[0m\u001b[0;34m\u001b[0m\u001b[0;34m\u001b[0m\u001b[0m\n",
            "\u001b[0;32m/usr/local/lib/python3.9/dist-packages/pandas/_libs/index.pyx\u001b[0m in \u001b[0;36mpandas._libs.index.IndexEngine.get_loc\u001b[0;34m()\u001b[0m\n",
            "\u001b[0;32m/usr/local/lib/python3.9/dist-packages/pandas/_libs/index.pyx\u001b[0m in \u001b[0;36mpandas._libs.index.IndexEngine.get_loc\u001b[0;34m()\u001b[0m\n",
            "\u001b[0;32mpandas/_libs/index_class_helper.pxi\u001b[0m in \u001b[0;36mpandas._libs.index.Int64Engine._check_type\u001b[0;34m()\u001b[0m\n",
            "\u001b[0;31mKeyError\u001b[0m: 'COAST'",
            "\nThe above exception was the direct cause of the following exception:\n",
            "\u001b[0;31mKeyError\u001b[0m                                  Traceback (most recent call last)",
            "\u001b[0;32m<ipython-input-43-f207d4b4a2fe>\u001b[0m in \u001b[0;36m<cell line: 2>\u001b[0;34m()\u001b[0m\n\u001b[1;32m      1\u001b[0m \u001b[0;31m# This will give you error because there is no column name in the Series\u001b[0m\u001b[0;34m\u001b[0m\u001b[0;34m\u001b[0m\u001b[0m\n\u001b[0;32m----> 2\u001b[0;31m \u001b[0msummer_by_hour\u001b[0m\u001b[0;34m[\u001b[0m\u001b[0;34m'COAST'\u001b[0m\u001b[0;34m]\u001b[0m\u001b[0;34m\u001b[0m\u001b[0;34m\u001b[0m\u001b[0m\n\u001b[0m",
            "\u001b[0;32m/usr/local/lib/python3.9/dist-packages/pandas/core/series.py\u001b[0m in \u001b[0;36m__getitem__\u001b[0;34m(self, key)\u001b[0m\n\u001b[1;32m    956\u001b[0m \u001b[0;34m\u001b[0m\u001b[0m\n\u001b[1;32m    957\u001b[0m         \u001b[0;32melif\u001b[0m \u001b[0mkey_is_scalar\u001b[0m\u001b[0;34m:\u001b[0m\u001b[0;34m\u001b[0m\u001b[0;34m\u001b[0m\u001b[0m\n\u001b[0;32m--> 958\u001b[0;31m             \u001b[0;32mreturn\u001b[0m \u001b[0mself\u001b[0m\u001b[0;34m.\u001b[0m\u001b[0m_get_value\u001b[0m\u001b[0;34m(\u001b[0m\u001b[0mkey\u001b[0m\u001b[0;34m)\u001b[0m\u001b[0;34m\u001b[0m\u001b[0;34m\u001b[0m\u001b[0m\n\u001b[0m\u001b[1;32m    959\u001b[0m \u001b[0;34m\u001b[0m\u001b[0m\n\u001b[1;32m    960\u001b[0m         \u001b[0;32mif\u001b[0m \u001b[0mis_hashable\u001b[0m\u001b[0;34m(\u001b[0m\u001b[0mkey\u001b[0m\u001b[0;34m)\u001b[0m\u001b[0;34m:\u001b[0m\u001b[0;34m\u001b[0m\u001b[0;34m\u001b[0m\u001b[0m\n",
            "\u001b[0;32m/usr/local/lib/python3.9/dist-packages/pandas/core/series.py\u001b[0m in \u001b[0;36m_get_value\u001b[0;34m(self, label, takeable)\u001b[0m\n\u001b[1;32m   1067\u001b[0m \u001b[0;34m\u001b[0m\u001b[0m\n\u001b[1;32m   1068\u001b[0m         \u001b[0;31m# Similar to Index.get_value, but we do not fall back to positional\u001b[0m\u001b[0;34m\u001b[0m\u001b[0;34m\u001b[0m\u001b[0m\n\u001b[0;32m-> 1069\u001b[0;31m         \u001b[0mloc\u001b[0m \u001b[0;34m=\u001b[0m \u001b[0mself\u001b[0m\u001b[0;34m.\u001b[0m\u001b[0mindex\u001b[0m\u001b[0;34m.\u001b[0m\u001b[0mget_loc\u001b[0m\u001b[0;34m(\u001b[0m\u001b[0mlabel\u001b[0m\u001b[0;34m)\u001b[0m\u001b[0;34m\u001b[0m\u001b[0;34m\u001b[0m\u001b[0m\n\u001b[0m\u001b[1;32m   1070\u001b[0m         \u001b[0;32mreturn\u001b[0m \u001b[0mself\u001b[0m\u001b[0;34m.\u001b[0m\u001b[0mindex\u001b[0m\u001b[0;34m.\u001b[0m\u001b[0m_get_values_for_loc\u001b[0m\u001b[0;34m(\u001b[0m\u001b[0mself\u001b[0m\u001b[0;34m,\u001b[0m \u001b[0mloc\u001b[0m\u001b[0;34m,\u001b[0m \u001b[0mlabel\u001b[0m\u001b[0;34m)\u001b[0m\u001b[0;34m\u001b[0m\u001b[0;34m\u001b[0m\u001b[0m\n\u001b[1;32m   1071\u001b[0m \u001b[0;34m\u001b[0m\u001b[0m\n",
            "\u001b[0;32m/usr/local/lib/python3.9/dist-packages/pandas/core/indexes/base.py\u001b[0m in \u001b[0;36mget_loc\u001b[0;34m(self, key, method, tolerance)\u001b[0m\n\u001b[1;32m   3629\u001b[0m                 \u001b[0;32mreturn\u001b[0m \u001b[0mself\u001b[0m\u001b[0;34m.\u001b[0m\u001b[0m_engine\u001b[0m\u001b[0;34m.\u001b[0m\u001b[0mget_loc\u001b[0m\u001b[0;34m(\u001b[0m\u001b[0mcasted_key\u001b[0m\u001b[0;34m)\u001b[0m\u001b[0;34m\u001b[0m\u001b[0;34m\u001b[0m\u001b[0m\n\u001b[1;32m   3630\u001b[0m             \u001b[0;32mexcept\u001b[0m \u001b[0mKeyError\u001b[0m \u001b[0;32mas\u001b[0m \u001b[0merr\u001b[0m\u001b[0;34m:\u001b[0m\u001b[0;34m\u001b[0m\u001b[0;34m\u001b[0m\u001b[0m\n\u001b[0;32m-> 3631\u001b[0;31m                 \u001b[0;32mraise\u001b[0m \u001b[0mKeyError\u001b[0m\u001b[0;34m(\u001b[0m\u001b[0mkey\u001b[0m\u001b[0;34m)\u001b[0m \u001b[0;32mfrom\u001b[0m \u001b[0merr\u001b[0m\u001b[0;34m\u001b[0m\u001b[0;34m\u001b[0m\u001b[0m\n\u001b[0m\u001b[1;32m   3632\u001b[0m             \u001b[0;32mexcept\u001b[0m \u001b[0mTypeError\u001b[0m\u001b[0;34m:\u001b[0m\u001b[0;34m\u001b[0m\u001b[0;34m\u001b[0m\u001b[0m\n\u001b[1;32m   3633\u001b[0m                 \u001b[0;31m# If we have a listlike key, _check_indexing_error will raise\u001b[0m\u001b[0;34m\u001b[0m\u001b[0;34m\u001b[0m\u001b[0m\n",
            "\u001b[0;31mKeyError\u001b[0m: 'COAST'"
          ]
        }
      ],
      "source": [
        "# This will give you error because there is no column name in the Series\n",
        "summer_by_hour['COAST']\n",
        "\n",
        "# 这行代码应该是用来选取 Pandas 数据帧 summer_by_hour 中名为 COAST 的列。在 Pandas 中，可以通过类似于字典的方式访问和操作数据帧的列。\n",
        "# 如果 summer_by_hour 是一个 Pandas 数据帧对象，那么 summer_by_hour['COAST'] 将返回一个 Pandas 序列对象，其中包含了名为 COAST 的列的所有值。\n",
        "# 这个序列对象可以用于进一步的数据分析和可视化操作，例如绘制折线图或者计算列的统计信息。\n",
        "# \n",
        "# 如果 summer_by_hour 中不存在名为 COAST 的列，那么运行这行代码将会抛出 KeyError 错误。"
      ]
    },
    {
      "cell_type": "code",
      "execution_count": 44,
      "metadata": {
        "colab": {
          "base_uri": "https://localhost:8080/",
          "height": 467
        },
        "id": "_STX0CQsAEbS",
        "outputId": "9e6c7c75-8420-4534-a08d-a610507656d6"
      },
      "outputs": [
        {
          "data": {
            "text/plain": [
              "<Axes: xlabel='hour'>"
            ]
          },
          "execution_count": 44,
          "metadata": {},
          "output_type": "execute_result"
        },
        {
          "data": {
            "image/png": "[encoded data removed]",
            "text/plain": [
              "<Figure size 640x480 with 1 Axes>"
            ]
          },
          "metadata": {},
          "output_type": "display_data"
        }
      ],
      "source": [
        "summer_by_hour.plot.line()"
      ]
    },
    {
      "cell_type": "code",
      "execution_count": 45,
      "metadata": {
        "colab": {
          "base_uri": "https://localhost:8080/"
        },
        "id": "ENFK3uW3AEWv",
        "outputId": "1de70dbc-1d0d-4470-f937-41f64bd89576"
      },
      "outputs": [
        {
          "data": {
            "text/plain": [
              "pandas.core.frame.DataFrame"
            ]
          },
          "execution_count": 45,
          "metadata": {},
          "output_type": "execute_result"
        }
      ],
      "source": [
        "# we can use reset_index() to convert a Series into a Dataframe\n",
        "summer_by_hour_ri = summer.groupby('hour')['COAST'].mean().reset_index()\n",
        "type(summer_by_hour_ri)"
      ]
    },
    {
      "attachments": {},
      "cell_type": "markdown",
      "metadata": {},
      "source": [
        "summer.groupby('hour')['COAST'].mean()：对 summer 数据帧按小时数 hour 进行分组，并计算每个小时的 COAST 列的平均值。这个操作返回的是一个 Pandas 序列对象，它的索引是小时数，值是平均 COAST 负荷。例如，序列对象中索引为 1 的元素表示一天中的 1 点钟的平均 COAST 负荷。\n",
        "\n",
        "\n",
        "reset_index() 方法将这个序列对象转换成一个数据帧对象，并把原来的索引列变成一个新的数据帧的列。新的数据帧包含两列：hour 和 COAST。hour 列是整数类型，表示一天中的小时数；COAST 列是浮点数类型，表示在每个小时的平均 COAST 负荷。\n",
        "\n",
        "\n",
        "最后，将新的数据帧对象赋值给变量 summer_by_hour_ri。因为 summer_by_hour_ri 是一个 Pandas 数据帧对象，所以它的类型是 pandas.core.frame.DataFrame。"
      ]
    },
    {
      "cell_type": "code",
      "execution_count": 46,
      "metadata": {
        "colab": {
          "base_uri": "https://localhost:8080/",
          "height": 363
        },
        "id": "-8-yinNsAEJi",
        "outputId": "a2b153b1-b0ae-4c19-8bbb-942996046798"
      },
      "outputs": [
        {
          "data": {
            "text/html": [
              "\n",
              "  <div id=\"df-af6b8bfc-387a-47f4-98e6-fa0247b737f5\">\n",
              "    <div class=\"colab-df-container\">\n",
              "      <div>\n",
              "<style scoped>\n",
              "    .dataframe tbody tr th:only-of-type {\n",
              "        vertical-align: middle;\n",
              "    }\n",
              "\n",
              "    .dataframe tbody tr th {\n",
              "        vertical-align: top;\n",
              "    }\n",
              "\n",
              "    .dataframe thead th {\n",
              "        text-align: right;\n",
              "    }\n",
              "</style>\n",
              "<table border=\"1\" class=\"dataframe\">\n",
              "  <thead>\n",
              "    <tr style=\"text-align: right;\">\n",
              "      <th></th>\n",
              "      <th>hour</th>\n",
              "      <th>COAST</th>\n",
              "    </tr>\n",
              "  </thead>\n",
              "  <tbody>\n",
              "    <tr>\n",
              "      <th>0</th>\n",
              "      <td>9</td>\n",
              "      <td>11652.704393</td>\n",
              "    </tr>\n",
              "    <tr>\n",
              "      <th>1</th>\n",
              "      <td>10</td>\n",
              "      <td>12607.869052</td>\n",
              "    </tr>\n",
              "    <tr>\n",
              "      <th>2</th>\n",
              "      <td>11</td>\n",
              "      <td>13597.006934</td>\n",
              "    </tr>\n",
              "    <tr>\n",
              "      <th>3</th>\n",
              "      <td>12</td>\n",
              "      <td>14481.301405</td>\n",
              "    </tr>\n",
              "    <tr>\n",
              "      <th>4</th>\n",
              "      <td>13</td>\n",
              "      <td>15178.029117</td>\n",
              "    </tr>\n",
              "    <tr>\n",
              "      <th>5</th>\n",
              "      <td>14</td>\n",
              "      <td>15748.938608</td>\n",
              "    </tr>\n",
              "    <tr>\n",
              "      <th>6</th>\n",
              "      <td>15</td>\n",
              "      <td>16149.174541</td>\n",
              "    </tr>\n",
              "    <tr>\n",
              "      <th>7</th>\n",
              "      <td>16</td>\n",
              "      <td>16369.773180</td>\n",
              "    </tr>\n",
              "    <tr>\n",
              "      <th>8</th>\n",
              "      <td>17</td>\n",
              "      <td>16392.104322</td>\n",
              "    </tr>\n",
              "    <tr>\n",
              "      <th>9</th>\n",
              "      <td>18</td>\n",
              "      <td>16166.366575</td>\n",
              "    </tr>\n",
              "  </tbody>\n",
              "</table>\n",
              "</div>\n",
              "      <button class=\"colab-df-convert\" onclick=\"convertToInteractive('df-af6b8bfc-387a-47f4-98e6-fa0247b737f5')\"\n",
              "              title=\"Convert this dataframe to an interactive table.\"\n",
              "              style=\"display:none;\">\n",
              "        \n",
              "  <svg xmlns=\"http://www.w3.org/2000/svg\" height=\"24px\"viewBox=\"0 0 24 24\"\n",
              "       width=\"24px\">\n",
              "    <path d=\"M0 0h24v24H0V0z\" fill=\"none\"/>\n",
              "    <path d=\"M18.56 5.44l.94 2.06.94-2.06 2.06-.94-2.06-.94-.94-2.06-.94 2.06-2.06.94zm-11 1L8.5 8.5l.94-2.06 2.06-.94-2.06-.94L8.5 2.5l-.94 2.06-2.06.94zm10 10l.94 2.06.94-2.06 2.06-.94-2.06-.94-.94-2.06-.94 2.06-2.06.94z\"/><path d=\"M17.41 7.96l-1.37-1.37c-.4-.4-.92-.59-1.43-.59-.52 0-1.04.2-1.43.59L10.3 9.45l-7.72 7.72c-.78.78-.78 2.05 0 2.83L4 21.41c.39.39.9.59 1.41.59.51 0 1.02-.2 1.41-.59l7.78-7.78 2.81-2.81c.8-.78.8-2.07 0-2.86zM5.41 20L4 18.59l7.72-7.72 1.47 1.35L5.41 20z\"/>\n",
              "  </svg>\n",
              "      </button>\n",
              "      \n",
              "  <style>\n",
              "    .colab-df-container {\n",
              "      display:flex;\n",
              "      flex-wrap:wrap;\n",
              "      gap: 12px;\n",
              "    }\n",
              "\n",
              "    .colab-df-convert {\n",
              "      background-color: #E8F0FE;\n",
              "      border: none;\n",
              "      border-radius: 50%;\n",
              "      cursor: pointer;\n",
              "      display: none;\n",
              "      fill: #1967D2;\n",
              "      height: 32px;\n",
              "      padding: 0 0 0 0;\n",
              "      width: 32px;\n",
              "    }\n",
              "\n",
              "    .colab-df-convert:hover {\n",
              "      background-color: #E2EBFA;\n",
              "      box-shadow: 0px 1px 2px rgba(60, 64, 67, 0.3), 0px 1px 3px 1px rgba(60, 64, 67, 0.15);\n",
              "      fill: #174EA6;\n",
              "    }\n",
              "\n",
              "    [theme=dark] .colab-df-convert {\n",
              "      background-color: #3B4455;\n",
              "      fill: #D2E3FC;\n",
              "    }\n",
              "\n",
              "    [theme=dark] .colab-df-convert:hover {\n",
              "      background-color: #434B5C;\n",
              "      box-shadow: 0px 1px 3px 1px rgba(0, 0, 0, 0.15);\n",
              "      filter: drop-shadow(0px 1px 2px rgba(0, 0, 0, 0.3));\n",
              "      fill: #FFFFFF;\n",
              "    }\n",
              "  </style>\n",
              "\n",
              "      <script>\n",
              "        const buttonEl =\n",
              "          document.querySelector('#df-af6b8bfc-387a-47f4-98e6-fa0247b737f5 button.colab-df-convert');\n",
              "        buttonEl.style.display =\n",
              "          google.colab.kernel.accessAllowed ? 'block' : 'none';\n",
              "\n",
              "        async function convertToInteractive(key) {\n",
              "          const element = document.querySelector('#df-af6b8bfc-387a-47f4-98e6-fa0247b737f5');\n",
              "          const dataTable =\n",
              "            await google.colab.kernel.invokeFunction('convertToInteractive',\n",
              "                                                     [key], {});\n",
              "          if (!dataTable) return;\n",
              "\n",
              "          const docLinkHtml = 'Like what you see? Visit the ' +\n",
              "            '<a target=\"_blank\" href=https://colab.research.google.com/notebooks/data_table.ipynb>data table notebook</a>'\n",
              "            + ' to learn more about interactive tables.';\n",
              "          element.innerHTML = '';\n",
              "          dataTable['output_type'] = 'display_data';\n",
              "          await google.colab.output.renderOutput(dataTable, element);\n",
              "          const docLink = document.createElement('div');\n",
              "          docLink.innerHTML = docLinkHtml;\n",
              "          element.appendChild(docLink);\n",
              "        }\n",
              "      </script>\n",
              "    </div>\n",
              "  </div>\n",
              "  "
            ],
            "text/plain": [
              "   hour         COAST\n",
              "0     9  11652.704393\n",
              "1    10  12607.869052\n",
              "2    11  13597.006934\n",
              "3    12  14481.301405\n",
              "4    13  15178.029117\n",
              "5    14  15748.938608\n",
              "6    15  16149.174541\n",
              "7    16  16369.773180\n",
              "8    17  16392.104322\n",
              "9    18  16166.366575"
            ]
          },
          "execution_count": 46,
          "metadata": {},
          "output_type": "execute_result"
        }
      ],
      "source": [
        "summer_by_hour_ri"
      ]
    },
    {
      "cell_type": "code",
      "execution_count": 47,
      "metadata": {
        "colab": {
          "base_uri": "https://localhost:8080/"
        },
        "id": "hDhFjBXaAU6d",
        "outputId": "4a243515-f49b-4405-9efc-30019dd3587a"
      },
      "outputs": [
        {
          "data": {
            "text/plain": [
              "RangeIndex(start=0, stop=10, step=1)"
            ]
          },
          "execution_count": 47,
          "metadata": {},
          "output_type": "execute_result"
        }
      ],
      "source": [
        "summer_by_hour_ri.index"
      ]
    },
    {
      "attachments": {},
      "cell_type": "markdown",
      "metadata": {},
      "source": [
        " 返回数据帧 summer_by_hour_ri 的索引。在这个例子中，数据帧 summer_by_hour_ri 的索引是整数索引，表示数据帧中每一行的序号。由于在 groupby() 操作后对数据帧进行了重置索引的操作，因此索引是从 0 开始的整数序列，对应着数据帧中的每一行数据。"
      ]
    },
    {
      "cell_type": "code",
      "execution_count": 48,
      "metadata": {
        "colab": {
          "base_uri": "https://localhost:8080/"
        },
        "id": "DRTgjmvGAU2_",
        "outputId": "b281a7d9-d311-4e8a-ff67-cbe2ff15ed49"
      },
      "outputs": [
        {
          "data": {
            "text/plain": [
              "0    11652.704393\n",
              "1    12607.869052\n",
              "2    13597.006934\n",
              "3    14481.301405\n",
              "4    15178.029117\n",
              "5    15748.938608\n",
              "6    16149.174541\n",
              "7    16369.773180\n",
              "8    16392.104322\n",
              "9    16166.366575\n",
              "Name: COAST, dtype: float64"
            ]
          },
          "execution_count": 48,
          "metadata": {},
          "output_type": "execute_result"
        }
      ],
      "source": [
        "summer_by_hour_ri['COAST']"
      ]
    },
    {
      "attachments": {},
      "cell_type": "markdown",
      "metadata": {},
      "source": [
        "summer_by_hour_ri['COAST'] 是 Pandas 数据帧对象 summer_by_hour_ri 的一列，对应着按小时数分组后每小时 COAST 平均负荷的值。这个操作会返回一个 Pandas 序列对象，它的值是每小时 COAST 平均负荷，索引是按小时数分组后的结果。"
      ]
    },
    {
      "cell_type": "code",
      "execution_count": 49,
      "metadata": {
        "colab": {
          "base_uri": "https://localhost:8080/",
          "height": 448
        },
        "id": "nh-8R-9CAU0K",
        "outputId": "ffb00632-c559-4743-d973-b282de4b3a4e"
      },
      "outputs": [
        {
          "data": {
            "text/plain": [
              "<Axes: >"
            ]
          },
          "execution_count": 49,
          "metadata": {},
          "output_type": "execute_result"
        },
        {
          "data": {
            "image/png": "[encoded data removed]",
            "text/plain": [
              "<Figure size 640x480 with 1 Axes>"
            ]
          },
          "metadata": {},
          "output_type": "display_data"
        }
      ],
      "source": [
        "summer_by_hour_ri.plot.line()"
      ]
    },
    {
      "cell_type": "code",
      "execution_count": 50,
      "metadata": {
        "colab": {
          "base_uri": "https://localhost:8080/",
          "height": 467
        },
        "id": "s-C1ASJSAUtv",
        "outputId": "46894a80-9115-482f-eb82-a46ab14ae198"
      },
      "outputs": [
        {
          "data": {
            "text/plain": [
              "<Axes: xlabel='hour'>"
            ]
          },
          "execution_count": 50,
          "metadata": {},
          "output_type": "execute_result"
        },
        {
          "data": {
            "image/png": "[encoded data removed]",
            "text/plain": [
              "<Figure size 640x480 with 1 Axes>"
            ]
          },
          "metadata": {},
          "output_type": "display_data"
        }
      ],
      "source": [
        "summer_by_hour_ri.plot.line(y = 'COAST', x = 'hour')"
      ]
    },
    {
      "attachments": {},
      "cell_type": "markdown",
      "metadata": {},
      "source": [
        "将 summer_by_hour_ri 按照小时数分组后每小时 COAST 平均负荷的值作为纵坐标，按小时数作为横坐标画出折线图的操作。\n",
        "\n",
        "其中 y = 'COAST' 指定了纵坐标使用 summer_by_hour_ri 数据帧对象中名为 COAST 的列，x = 'hour' 指定了横坐标使用 summer_by_hour_ri 数据帧对象中名为 hour 的列。\n",
        "\n",
        "这个操作使用了 Pandas 中内置的 plot 函数，它能够直接将数据绘制成图形。"
      ]
    }
  ],
  "metadata": {
    "colab": {
      "provenance": []
    },
    "kernelspec": {
      "display_name": "Python 3 (ipykernel)",
      "language": "python",
      "name": "python3"
    },
    "language_info": {
      "codemirror_mode": {
        "name": "ipython",
        "version": 3
      },
      "file_extension": ".py",
      "mimetype": "text/x-python",
      "name": "python",
      "nbconvert_exporter": "python",
      "pygments_lexer": "ipython3",
      "version": "3.9.7"
    }
  },
  "nbformat": 4,
  "nbformat_minor": 0
}
